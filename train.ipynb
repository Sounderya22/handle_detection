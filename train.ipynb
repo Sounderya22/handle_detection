{
 "cells": [
  {
   "cell_type": "code",
   "execution_count": null,
   "metadata": {},
   "outputs": [
    {
     "name": "stdout",
     "output_type": "stream",
     "text": [
      "Error reading from /home/vv/.config/Ultralytics/settings.json: \"No Ultralytics setting 'openvino_msg'. \\nView Ultralytics Settings with 'yolo settings' or at '/home/vv/.config/Ultralytics/settings.json'\\nUpdate Settings with 'yolo settings key=value', i.e. 'yolo settings runs_dir=path/to/dir'. For help see https://docs.ultralytics.com/quickstart/#ultralytics-settings.\"\n",
      "Creating new Ultralytics Settings v0.0.6 file ✅ \n",
      "View Ultralytics Settings with 'yolo settings' or at '/home/vv/.config/Ultralytics/settings.json'\n",
      "Update Settings with 'yolo settings key=value', i.e. 'yolo settings runs_dir=path/to/dir'. For help see https://docs.ultralytics.com/quickstart/#ultralytics-settings.\n"
     ]
    }
   ],
   "source": [
    "import os\n",
    "from ultralytics import YOLO"
   ]
  },
  {
   "cell_type": "code",
   "execution_count": null,
   "metadata": {},
   "outputs": [],
   "source": [
    "# Load your YOLO11n model\n",
    "project_dir = '/home/vv/PRG_Assessment/car-door-handle.yolov12'  # Replace with your actual project directory\n",
    "model = YOLO('/home/vv/PRG_Assessment/yolo12n.pt') \n"
   ]
  },
  {
   "cell_type": "code",
   "execution_count": null,
   "metadata": {},
   "outputs": [
    {
     "name": "stdout",
     "output_type": "stream",
     "text": [
      "New https://pypi.org/project/ultralytics/8.3.143 available 😃 Update with 'pip install -U ultralytics'\n",
      "Ultralytics 8.3.79 🚀 Python-3.10.12 torch-2.6.0+cu124 CUDA:0 (NVIDIA GeForce RTX 4070 Laptop GPU, 7817MiB)\n",
      "\u001b[34m\u001b[1mengine/trainer: \u001b[0mtask=detect, mode=train, model=/home/vv/PRG_Assessment/yolo12n.pt, data=/home/vv/PRG_Assessment/car-door-handle.yolov12/data.yaml, epochs=100, time=None, patience=25, batch=16, imgsz=640, save=True, save_period=-1, cache=False, device=0, workers=8, project=/home/vv/PRG_Assessment/car-door-handle.yolov12/custom datset of handles, name=yolov12n_handles3, exist_ok=False, pretrained=True, optimizer=auto, verbose=True, seed=0, deterministic=True, single_cls=False, rect=False, cos_lr=False, close_mosaic=10, resume=False, amp=True, fraction=1.0, profile=False, freeze=None, multi_scale=False, overlap_mask=True, mask_ratio=4, dropout=0.0, val=True, split=val, save_json=False, save_hybrid=False, conf=None, iou=0.7, max_det=300, half=False, dnn=False, plots=True, source=None, vid_stride=1, stream_buffer=False, visualize=False, augment=False, agnostic_nms=False, classes=None, retina_masks=False, embed=None, show=False, save_frames=False, save_txt=False, save_conf=False, save_crop=False, show_labels=True, show_conf=True, show_boxes=True, line_width=None, format=torchscript, keras=False, optimize=False, int8=False, dynamic=False, simplify=True, opset=None, workspace=None, nms=False, lr0=0.01, lrf=0.01, momentum=0.937, weight_decay=0.0005, warmup_epochs=3.0, warmup_momentum=0.8, warmup_bias_lr=0.0, box=7.5, cls=0.5, dfl=1.5, pose=12.0, kobj=1.0, nbs=64, hsv_h=0.015, hsv_s=0.7, hsv_v=0.4, degrees=0.0, translate=0.1, scale=0.5, shear=0.0, perspective=0.0, flipud=0.0, fliplr=0.5, bgr=0.0, mosaic=1.0, mixup=0.0, copy_paste=0.0, copy_paste_mode=flip, auto_augment=randaugment, erasing=0.4, crop_fraction=1.0, cfg=None, tracker=botsort.yaml, save_dir=/home/vv/PRG_Assessment/car-door-handle.yolov12/custom datset of handles/yolov12n_handles3\n",
      "\n",
      "                   from  n    params  module                                       arguments                     \n",
      "  0                  -1  1       464  ultralytics.nn.modules.conv.Conv             [3, 16, 3, 2]                 \n",
      "  1                  -1  1      4672  ultralytics.nn.modules.conv.Conv             [16, 32, 3, 2]                \n",
      "  2                  -1  1      6640  ultralytics.nn.modules.block.C3k2            [32, 64, 1, False, 0.25]      \n",
      "  3                  -1  1     36992  ultralytics.nn.modules.conv.Conv             [64, 64, 3, 2]                \n",
      "  4                  -1  1     26080  ultralytics.nn.modules.block.C3k2            [64, 128, 1, False, 0.25]     \n",
      "  5                  -1  1    147712  ultralytics.nn.modules.conv.Conv             [128, 128, 3, 2]              \n",
      "  6                  -1  2    180864  ultralytics.nn.modules.block.A2C2f           [128, 128, 2, True, 4]        \n",
      "  7                  -1  1    295424  ultralytics.nn.modules.conv.Conv             [128, 256, 3, 2]              \n",
      "  8                  -1  2    689408  ultralytics.nn.modules.block.A2C2f           [256, 256, 2, True, 1]        \n",
      "  9                  -1  1         0  torch.nn.modules.upsampling.Upsample         [None, 2, 'nearest']          \n",
      " 10             [-1, 6]  1         0  ultralytics.nn.modules.conv.Concat           [1]                           \n",
      " 11                  -1  1     86912  ultralytics.nn.modules.block.A2C2f           [384, 128, 1, False, -1]      \n",
      " 12                  -1  1         0  torch.nn.modules.upsampling.Upsample         [None, 2, 'nearest']          \n",
      " 13             [-1, 4]  1         0  ultralytics.nn.modules.conv.Concat           [1]                           \n",
      " 14                  -1  1     24000  ultralytics.nn.modules.block.A2C2f           [256, 64, 1, False, -1]       \n",
      " 15                  -1  1     36992  ultralytics.nn.modules.conv.Conv             [64, 64, 3, 2]                \n",
      " 16            [-1, 11]  1         0  ultralytics.nn.modules.conv.Concat           [1]                           \n",
      " 17                  -1  1     74624  ultralytics.nn.modules.block.A2C2f           [192, 128, 1, False, -1]      \n",
      " 18                  -1  1    147712  ultralytics.nn.modules.conv.Conv             [128, 128, 3, 2]              \n",
      " 19             [-1, 8]  1         0  ultralytics.nn.modules.conv.Concat           [1]                           \n",
      " 20                  -1  1    378880  ultralytics.nn.modules.block.C3k2            [384, 256, 1, True]           \n",
      " 21        [14, 17, 20]  1    430867  ultralytics.nn.modules.head.Detect           [1, [64, 128, 256]]           \n",
      "YOLOv12n summary: 272 layers, 2,568,243 parameters, 2,568,227 gradients, 6.5 GFLOPs\n",
      "\n",
      "Transferred 691/691 items from pretrained weights\n",
      "Freezing layer 'model.21.dfl.conv.weight'\n",
      "\u001b[34m\u001b[1mAMP: \u001b[0mrunning Automatic Mixed Precision (AMP) checks...\n",
      "Downloading https://github.com/ultralytics/assets/releases/download/v8.3.0/yolo11n.pt to 'yolo11n.pt'...\n"
     ]
    },
    {
     "name": "stderr",
     "output_type": "stream",
     "text": [
      "100%|██████████| 5.35M/5.35M [00:00<00:00, 31.9MB/s]\n"
     ]
    },
    {
     "name": "stdout",
     "output_type": "stream",
     "text": [
      "\u001b[34m\u001b[1mAMP: \u001b[0mchecks passed ✅\n"
     ]
    },
    {
     "name": "stderr",
     "output_type": "stream",
     "text": [
      "\u001b[34m\u001b[1mtrain: \u001b[0mScanning /home/vv/PRG_Assessment/car-door-handle.yolov12/train/labels... 2803 images, 102 backgrounds, 0 corrupt: 100%|██████████| 2803/2803 [00:01<00:00, 1998.99it/s]\n"
     ]
    },
    {
     "name": "stdout",
     "output_type": "stream",
     "text": [
      "\u001b[34m\u001b[1mtrain: \u001b[0mNew cache created: /home/vv/PRG_Assessment/car-door-handle.yolov12/train/labels.cache\n",
      "WARNING ⚠️ Box and segment counts should be equal, but got len(segments) = 35, len(boxes) = 2994. To resolve this only boxes will be used and all segments will be removed. To avoid this please supply either a detect or segment dataset, not a detect-segment mixed dataset.\n"
     ]
    },
    {
     "name": "stderr",
     "output_type": "stream",
     "text": [
      "\u001b[34m\u001b[1mval: \u001b[0mScanning /home/vv/PRG_Assessment/car-door-handle.yolov12/valid/labels.cache... 328 images, 4 backgrounds, 0 corrupt: 100%|██████████| 328/328 [00:00<?, ?it/s]"
     ]
    },
    {
     "name": "stdout",
     "output_type": "stream",
     "text": [
      "WARNING ⚠️ Box and segment counts should be equal, but got len(segments) = 2, len(boxes) = 350. To resolve this only boxes will be used and all segments will be removed. To avoid this please supply either a detect or segment dataset, not a detect-segment mixed dataset.\n"
     ]
    },
    {
     "name": "stderr",
     "output_type": "stream",
     "text": [
      "\n"
     ]
    },
    {
     "name": "stdout",
     "output_type": "stream",
     "text": [
      "Plotting labels to /home/vv/PRG_Assessment/car-door-handle.yolov12/custom datset of handles/yolov12n_handles3/labels.jpg... \n",
      "\u001b[34m\u001b[1moptimizer:\u001b[0m 'optimizer=auto' found, ignoring 'lr0=0.01' and 'momentum=0.937' and determining best 'optimizer', 'lr0' and 'momentum' automatically... \n",
      "\u001b[34m\u001b[1moptimizer:\u001b[0m AdamW(lr=0.002, momentum=0.9) with parameter groups 113 weight(decay=0.0), 120 weight(decay=0.0005), 119 bias(decay=0.0)\n",
      "Image sizes 640 train, 640 val\n",
      "Using 8 dataloader workers\n",
      "Logging results to \u001b[1m/home/vv/PRG_Assessment/car-door-handle.yolov12/custom datset of handles/yolov12n_handles3\u001b[0m\n",
      "Starting training for 100 epochs...\n",
      "\n",
      "      Epoch    GPU_mem   box_loss   cls_loss   dfl_loss  Instances       Size\n"
     ]
    },
    {
     "name": "stderr",
     "output_type": "stream",
     "text": [
      "      1/100      3.35G      1.122     0.7291      1.172          2        640: 100%|██████████| 176/176 [00:36<00:00,  4.82it/s]\n",
      "                 Class     Images  Instances      Box(P          R      mAP50  mAP50-95): 100%|██████████| 11/11 [00:01<00:00,  5.69it/s]"
     ]
    },
    {
     "name": "stdout",
     "output_type": "stream",
     "text": [
      "                   all        328        350      0.937      0.847      0.899      0.572\n"
     ]
    },
    {
     "name": "stderr",
     "output_type": "stream",
     "text": [
      "\n"
     ]
    },
    {
     "name": "stdout",
     "output_type": "stream",
     "text": [
      "\n",
      "      Epoch    GPU_mem   box_loss   cls_loss   dfl_loss  Instances       Size\n"
     ]
    },
    {
     "name": "stderr",
     "output_type": "stream",
     "text": [
      "      2/100      3.35G      1.201      0.769      1.212          9        640: 100%|██████████| 176/176 [00:33<00:00,  5.22it/s]\n",
      "                 Class     Images  Instances      Box(P          R      mAP50  mAP50-95): 100%|██████████| 11/11 [00:01<00:00,  6.17it/s]"
     ]
    },
    {
     "name": "stdout",
     "output_type": "stream",
     "text": [
      "                   all        328        350      0.927      0.794      0.865      0.549\n"
     ]
    },
    {
     "name": "stderr",
     "output_type": "stream",
     "text": [
      "\n"
     ]
    },
    {
     "name": "stdout",
     "output_type": "stream",
     "text": [
      "\n",
      "      Epoch    GPU_mem   box_loss   cls_loss   dfl_loss  Instances       Size\n"
     ]
    },
    {
     "name": "stderr",
     "output_type": "stream",
     "text": [
      "      3/100      3.34G      1.252     0.8332      1.257          6        640: 100%|██████████| 176/176 [00:33<00:00,  5.22it/s]\n",
      "                 Class     Images  Instances      Box(P          R      mAP50  mAP50-95): 100%|██████████| 11/11 [00:01<00:00,  6.24it/s]"
     ]
    },
    {
     "name": "stdout",
     "output_type": "stream",
     "text": [
      "                   all        328        350      0.833      0.838       0.86       0.52\n"
     ]
    },
    {
     "name": "stderr",
     "output_type": "stream",
     "text": [
      "\n"
     ]
    },
    {
     "name": "stdout",
     "output_type": "stream",
     "text": [
      "\n",
      "      Epoch    GPU_mem   box_loss   cls_loss   dfl_loss  Instances       Size\n"
     ]
    },
    {
     "name": "stderr",
     "output_type": "stream",
     "text": [
      "      4/100      3.35G      1.275     0.8758      1.263          2        640: 100%|██████████| 176/176 [00:31<00:00,  5.56it/s]\n",
      "                 Class     Images  Instances      Box(P          R      mAP50  mAP50-95): 100%|██████████| 11/11 [00:01<00:00,  6.33it/s]"
     ]
    },
    {
     "name": "stdout",
     "output_type": "stream",
     "text": [
      "                   all        328        350      0.899      0.785      0.861      0.508\n"
     ]
    },
    {
     "name": "stderr",
     "output_type": "stream",
     "text": [
      "\n"
     ]
    },
    {
     "name": "stdout",
     "output_type": "stream",
     "text": [
      "\n",
      "      Epoch    GPU_mem   box_loss   cls_loss   dfl_loss  Instances       Size\n"
     ]
    },
    {
     "name": "stderr",
     "output_type": "stream",
     "text": [
      "      5/100      3.35G      1.306     0.8988      1.283          1        640: 100%|██████████| 176/176 [00:31<00:00,  5.53it/s]\n",
      "                 Class     Images  Instances      Box(P          R      mAP50  mAP50-95): 100%|██████████| 11/11 [00:01<00:00,  6.13it/s]"
     ]
    },
    {
     "name": "stdout",
     "output_type": "stream",
     "text": [
      "                   all        328        350      0.868      0.791      0.854       0.49\n"
     ]
    },
    {
     "name": "stderr",
     "output_type": "stream",
     "text": [
      "\n"
     ]
    },
    {
     "name": "stdout",
     "output_type": "stream",
     "text": [
      "\n",
      "      Epoch    GPU_mem   box_loss   cls_loss   dfl_loss  Instances       Size\n"
     ]
    },
    {
     "name": "stderr",
     "output_type": "stream",
     "text": [
      "      6/100      3.35G      1.318     0.8984      1.284          4        640: 100%|██████████| 176/176 [00:31<00:00,  5.55it/s]\n",
      "                 Class     Images  Instances      Box(P          R      mAP50  mAP50-95): 100%|██████████| 11/11 [00:01<00:00,  6.17it/s]"
     ]
    },
    {
     "name": "stdout",
     "output_type": "stream",
     "text": [
      "                   all        328        350       0.81       0.73      0.775      0.408\n"
     ]
    },
    {
     "name": "stderr",
     "output_type": "stream",
     "text": [
      "\n"
     ]
    },
    {
     "name": "stdout",
     "output_type": "stream",
     "text": [
      "\n",
      "      Epoch    GPU_mem   box_loss   cls_loss   dfl_loss  Instances       Size\n"
     ]
    },
    {
     "name": "stderr",
     "output_type": "stream",
     "text": [
      "      7/100      3.36G      1.301      0.878      1.281          7        640: 100%|██████████| 176/176 [00:31<00:00,  5.61it/s]\n",
      "                 Class     Images  Instances      Box(P          R      mAP50  mAP50-95): 100%|██████████| 11/11 [00:01<00:00,  6.26it/s]"
     ]
    },
    {
     "name": "stdout",
     "output_type": "stream",
     "text": [
      "                   all        328        350      0.917      0.793      0.864      0.524\n"
     ]
    },
    {
     "name": "stderr",
     "output_type": "stream",
     "text": [
      "\n"
     ]
    },
    {
     "name": "stdout",
     "output_type": "stream",
     "text": [
      "\n",
      "      Epoch    GPU_mem   box_loss   cls_loss   dfl_loss  Instances       Size\n"
     ]
    },
    {
     "name": "stderr",
     "output_type": "stream",
     "text": [
      "      8/100      3.36G        1.3     0.8817      1.287          6        640: 100%|██████████| 176/176 [00:31<00:00,  5.53it/s]\n",
      "                 Class     Images  Instances      Box(P          R      mAP50  mAP50-95): 100%|██████████| 11/11 [00:01<00:00,  6.23it/s]"
     ]
    },
    {
     "name": "stdout",
     "output_type": "stream",
     "text": [
      "                   all        328        350      0.944      0.797      0.891      0.545\n"
     ]
    },
    {
     "name": "stderr",
     "output_type": "stream",
     "text": [
      "\n"
     ]
    },
    {
     "name": "stdout",
     "output_type": "stream",
     "text": [
      "\n",
      "      Epoch    GPU_mem   box_loss   cls_loss   dfl_loss  Instances       Size\n"
     ]
    },
    {
     "name": "stderr",
     "output_type": "stream",
     "text": [
      "      9/100      3.35G      1.314     0.8798      1.287          5        640: 100%|██████████| 176/176 [00:31<00:00,  5.54it/s]\n",
      "                 Class     Images  Instances      Box(P          R      mAP50  mAP50-95): 100%|██████████| 11/11 [00:01<00:00,  6.28it/s]"
     ]
    },
    {
     "name": "stdout",
     "output_type": "stream",
     "text": [
      "                   all        328        350      0.885      0.789      0.861      0.524\n"
     ]
    },
    {
     "name": "stderr",
     "output_type": "stream",
     "text": [
      "\n"
     ]
    },
    {
     "name": "stdout",
     "output_type": "stream",
     "text": [
      "\n",
      "      Epoch    GPU_mem   box_loss   cls_loss   dfl_loss  Instances       Size\n"
     ]
    },
    {
     "name": "stderr",
     "output_type": "stream",
     "text": [
      "     10/100      3.36G      1.295     0.8766      1.278          4        640: 100%|██████████| 176/176 [00:31<00:00,  5.57it/s]\n",
      "                 Class     Images  Instances      Box(P          R      mAP50  mAP50-95): 100%|██████████| 11/11 [00:01<00:00,  6.15it/s]"
     ]
    },
    {
     "name": "stdout",
     "output_type": "stream",
     "text": [
      "                   all        328        350      0.869      0.818      0.853      0.511\n"
     ]
    },
    {
     "name": "stderr",
     "output_type": "stream",
     "text": [
      "\n"
     ]
    },
    {
     "name": "stdout",
     "output_type": "stream",
     "text": [
      "\n",
      "      Epoch    GPU_mem   box_loss   cls_loss   dfl_loss  Instances       Size\n"
     ]
    },
    {
     "name": "stderr",
     "output_type": "stream",
     "text": [
      "     11/100      3.36G      1.299     0.8788       1.28          5        640: 100%|██████████| 176/176 [00:31<00:00,  5.58it/s]\n",
      "                 Class     Images  Instances      Box(P          R      mAP50  mAP50-95): 100%|██████████| 11/11 [00:01<00:00,  6.05it/s]"
     ]
    },
    {
     "name": "stdout",
     "output_type": "stream",
     "text": [
      "                   all        328        350       0.89      0.806      0.865      0.514\n"
     ]
    },
    {
     "name": "stderr",
     "output_type": "stream",
     "text": [
      "\n"
     ]
    },
    {
     "name": "stdout",
     "output_type": "stream",
     "text": [
      "\n",
      "      Epoch    GPU_mem   box_loss   cls_loss   dfl_loss  Instances       Size\n"
     ]
    },
    {
     "name": "stderr",
     "output_type": "stream",
     "text": [
      "     12/100      3.36G      1.271     0.8535       1.26          5        640: 100%|██████████| 176/176 [00:30<00:00,  5.75it/s]\n",
      "                 Class     Images  Instances      Box(P          R      mAP50  mAP50-95): 100%|██████████| 11/11 [00:01<00:00,  6.73it/s]"
     ]
    },
    {
     "name": "stdout",
     "output_type": "stream",
     "text": [
      "                   all        328        350      0.887      0.817      0.879      0.537\n"
     ]
    },
    {
     "name": "stderr",
     "output_type": "stream",
     "text": [
      "\n"
     ]
    },
    {
     "name": "stdout",
     "output_type": "stream",
     "text": [
      "\n",
      "      Epoch    GPU_mem   box_loss   cls_loss   dfl_loss  Instances       Size\n"
     ]
    },
    {
     "name": "stderr",
     "output_type": "stream",
     "text": [
      "     13/100      3.36G      1.273     0.8647      1.273          3        640: 100%|██████████| 176/176 [00:30<00:00,  5.83it/s]\n",
      "                 Class     Images  Instances      Box(P          R      mAP50  mAP50-95): 100%|██████████| 11/11 [00:01<00:00,  6.62it/s]"
     ]
    },
    {
     "name": "stdout",
     "output_type": "stream",
     "text": [
      "                   all        328        350      0.923      0.831      0.876      0.527\n"
     ]
    },
    {
     "name": "stderr",
     "output_type": "stream",
     "text": [
      "\n"
     ]
    },
    {
     "name": "stdout",
     "output_type": "stream",
     "text": [
      "\n",
      "      Epoch    GPU_mem   box_loss   cls_loss   dfl_loss  Instances       Size\n"
     ]
    },
    {
     "name": "stderr",
     "output_type": "stream",
     "text": [
      "     14/100      3.36G      1.261      0.831      1.261          3        640: 100%|██████████| 176/176 [00:30<00:00,  5.85it/s]\n",
      "                 Class     Images  Instances      Box(P          R      mAP50  mAP50-95): 100%|██████████| 11/11 [00:01<00:00,  6.68it/s]"
     ]
    },
    {
     "name": "stdout",
     "output_type": "stream",
     "text": [
      "                   all        328        350      0.881      0.763      0.823      0.468\n"
     ]
    },
    {
     "name": "stderr",
     "output_type": "stream",
     "text": [
      "\n"
     ]
    },
    {
     "name": "stdout",
     "output_type": "stream",
     "text": [
      "\n",
      "      Epoch    GPU_mem   box_loss   cls_loss   dfl_loss  Instances       Size\n"
     ]
    },
    {
     "name": "stderr",
     "output_type": "stream",
     "text": [
      "     15/100      3.36G      1.278     0.8468      1.264          6        640: 100%|██████████| 176/176 [00:30<00:00,  5.85it/s]\n",
      "                 Class     Images  Instances      Box(P          R      mAP50  mAP50-95): 100%|██████████| 11/11 [00:01<00:00,  6.71it/s]"
     ]
    },
    {
     "name": "stdout",
     "output_type": "stream",
     "text": [
      "                   all        328        350      0.914      0.809      0.879      0.529\n"
     ]
    },
    {
     "name": "stderr",
     "output_type": "stream",
     "text": [
      "\n"
     ]
    },
    {
     "name": "stdout",
     "output_type": "stream",
     "text": [
      "\n",
      "      Epoch    GPU_mem   box_loss   cls_loss   dfl_loss  Instances       Size\n"
     ]
    },
    {
     "name": "stderr",
     "output_type": "stream",
     "text": [
      "     16/100      3.35G       1.28     0.8492      1.261          3        640: 100%|██████████| 176/176 [00:30<00:00,  5.83it/s]\n",
      "                 Class     Images  Instances      Box(P          R      mAP50  mAP50-95): 100%|██████████| 11/11 [00:01<00:00,  6.60it/s]"
     ]
    },
    {
     "name": "stdout",
     "output_type": "stream",
     "text": [
      "                   all        328        350      0.915      0.791      0.872      0.546\n"
     ]
    },
    {
     "name": "stderr",
     "output_type": "stream",
     "text": [
      "\n"
     ]
    },
    {
     "name": "stdout",
     "output_type": "stream",
     "text": [
      "\n",
      "      Epoch    GPU_mem   box_loss   cls_loss   dfl_loss  Instances       Size\n"
     ]
    },
    {
     "name": "stderr",
     "output_type": "stream",
     "text": [
      "     17/100      3.35G      1.233     0.8243      1.244          2        640: 100%|██████████| 176/176 [00:32<00:00,  5.35it/s]\n",
      "                 Class     Images  Instances      Box(P          R      mAP50  mAP50-95): 100%|██████████| 11/11 [00:01<00:00,  6.25it/s]"
     ]
    },
    {
     "name": "stdout",
     "output_type": "stream",
     "text": [
      "                   all        328        350       0.94       0.82      0.888       0.53\n"
     ]
    },
    {
     "name": "stderr",
     "output_type": "stream",
     "text": [
      "\n"
     ]
    },
    {
     "name": "stdout",
     "output_type": "stream",
     "text": [
      "\n",
      "      Epoch    GPU_mem   box_loss   cls_loss   dfl_loss  Instances       Size\n"
     ]
    },
    {
     "name": "stderr",
     "output_type": "stream",
     "text": [
      "     18/100      3.36G      1.242     0.8235      1.242          6        640: 100%|██████████| 176/176 [00:32<00:00,  5.45it/s]\n",
      "                 Class     Images  Instances      Box(P          R      mAP50  mAP50-95): 100%|██████████| 11/11 [00:01<00:00,  6.14it/s]"
     ]
    },
    {
     "name": "stdout",
     "output_type": "stream",
     "text": [
      "                   all        328        350      0.929      0.817      0.877      0.533\n"
     ]
    },
    {
     "name": "stderr",
     "output_type": "stream",
     "text": [
      "\n"
     ]
    },
    {
     "name": "stdout",
     "output_type": "stream",
     "text": [
      "\n",
      "      Epoch    GPU_mem   box_loss   cls_loss   dfl_loss  Instances       Size\n"
     ]
    },
    {
     "name": "stderr",
     "output_type": "stream",
     "text": [
      "     19/100      3.36G      1.229     0.8082      1.237          6        640: 100%|██████████| 176/176 [00:32<00:00,  5.49it/s]\n",
      "                 Class     Images  Instances      Box(P          R      mAP50  mAP50-95): 100%|██████████| 11/11 [00:01<00:00,  6.22it/s]"
     ]
    },
    {
     "name": "stdout",
     "output_type": "stream",
     "text": [
      "                   all        328        350      0.937      0.837      0.883      0.533\n"
     ]
    },
    {
     "name": "stderr",
     "output_type": "stream",
     "text": [
      "\n"
     ]
    },
    {
     "name": "stdout",
     "output_type": "stream",
     "text": [
      "\n",
      "      Epoch    GPU_mem   box_loss   cls_loss   dfl_loss  Instances       Size\n"
     ]
    },
    {
     "name": "stderr",
     "output_type": "stream",
     "text": [
      "     20/100      3.36G      1.261     0.8345      1.243          7        640: 100%|██████████| 176/176 [00:31<00:00,  5.52it/s]\n",
      "                 Class     Images  Instances      Box(P          R      mAP50  mAP50-95): 100%|██████████| 11/11 [00:01<00:00,  6.12it/s]"
     ]
    },
    {
     "name": "stdout",
     "output_type": "stream",
     "text": [
      "                   all        328        350      0.874      0.851       0.88      0.525\n"
     ]
    },
    {
     "name": "stderr",
     "output_type": "stream",
     "text": [
      "\n"
     ]
    },
    {
     "name": "stdout",
     "output_type": "stream",
     "text": [
      "\n",
      "      Epoch    GPU_mem   box_loss   cls_loss   dfl_loss  Instances       Size\n"
     ]
    },
    {
     "name": "stderr",
     "output_type": "stream",
     "text": [
      "     21/100      3.35G      1.258     0.8303      1.257          2        640: 100%|██████████| 176/176 [00:32<00:00,  5.50it/s]\n",
      "                 Class     Images  Instances      Box(P          R      mAP50  mAP50-95): 100%|██████████| 11/11 [00:01<00:00,  6.04it/s]"
     ]
    },
    {
     "name": "stdout",
     "output_type": "stream",
     "text": [
      "                   all        328        350      0.905      0.846      0.886      0.541\n"
     ]
    },
    {
     "name": "stderr",
     "output_type": "stream",
     "text": [
      "\n"
     ]
    },
    {
     "name": "stdout",
     "output_type": "stream",
     "text": [
      "\n",
      "      Epoch    GPU_mem   box_loss   cls_loss   dfl_loss  Instances       Size\n"
     ]
    },
    {
     "name": "stderr",
     "output_type": "stream",
     "text": [
      "     22/100      3.35G      1.206     0.7946      1.229          4        640: 100%|██████████| 176/176 [00:31<00:00,  5.51it/s]\n",
      "                 Class     Images  Instances      Box(P          R      mAP50  mAP50-95): 100%|██████████| 11/11 [00:01<00:00,  6.17it/s]"
     ]
    },
    {
     "name": "stdout",
     "output_type": "stream",
     "text": [
      "                   all        328        350      0.924      0.829       0.88      0.525\n"
     ]
    },
    {
     "name": "stderr",
     "output_type": "stream",
     "text": [
      "\n"
     ]
    },
    {
     "name": "stdout",
     "output_type": "stream",
     "text": [
      "\n",
      "      Epoch    GPU_mem   box_loss   cls_loss   dfl_loss  Instances       Size\n"
     ]
    },
    {
     "name": "stderr",
     "output_type": "stream",
     "text": [
      "     23/100      3.36G       1.21     0.7663      1.224          8        640: 100%|██████████| 176/176 [00:31<00:00,  5.54it/s]\n",
      "                 Class     Images  Instances      Box(P          R      mAP50  mAP50-95): 100%|██████████| 11/11 [00:01<00:00,  6.06it/s]"
     ]
    },
    {
     "name": "stdout",
     "output_type": "stream",
     "text": [
      "                   all        328        350      0.903      0.851      0.884      0.544\n"
     ]
    },
    {
     "name": "stderr",
     "output_type": "stream",
     "text": [
      "\n"
     ]
    },
    {
     "name": "stdout",
     "output_type": "stream",
     "text": [
      "\n",
      "      Epoch    GPU_mem   box_loss   cls_loss   dfl_loss  Instances       Size\n"
     ]
    },
    {
     "name": "stderr",
     "output_type": "stream",
     "text": [
      "     24/100      3.36G      1.205     0.7787      1.228          7        640: 100%|██████████| 176/176 [00:31<00:00,  5.51it/s]\n",
      "                 Class     Images  Instances      Box(P          R      mAP50  mAP50-95): 100%|██████████| 11/11 [00:01<00:00,  6.18it/s]"
     ]
    },
    {
     "name": "stdout",
     "output_type": "stream",
     "text": [
      "                   all        328        350       0.88      0.863      0.888      0.537\n"
     ]
    },
    {
     "name": "stderr",
     "output_type": "stream",
     "text": [
      "\n"
     ]
    },
    {
     "name": "stdout",
     "output_type": "stream",
     "text": [
      "\n",
      "      Epoch    GPU_mem   box_loss   cls_loss   dfl_loss  Instances       Size\n"
     ]
    },
    {
     "name": "stderr",
     "output_type": "stream",
     "text": [
      "     25/100      3.36G      1.197     0.7592      1.215          9        640: 100%|██████████| 176/176 [00:32<00:00,  5.49it/s]\n",
      "                 Class     Images  Instances      Box(P          R      mAP50  mAP50-95): 100%|██████████| 11/11 [00:01<00:00,  6.15it/s]"
     ]
    },
    {
     "name": "stdout",
     "output_type": "stream",
     "text": [
      "                   all        328        350      0.927      0.817      0.881       0.53\n"
     ]
    },
    {
     "name": "stderr",
     "output_type": "stream",
     "text": [
      "\n"
     ]
    },
    {
     "name": "stdout",
     "output_type": "stream",
     "text": [
      "\n",
      "      Epoch    GPU_mem   box_loss   cls_loss   dfl_loss  Instances       Size\n"
     ]
    },
    {
     "name": "stderr",
     "output_type": "stream",
     "text": [
      "     26/100      3.35G      1.207      0.785      1.226          5        640: 100%|██████████| 176/176 [00:31<00:00,  5.65it/s]\n",
      "                 Class     Images  Instances      Box(P          R      mAP50  mAP50-95): 100%|██████████| 11/11 [00:01<00:00,  6.69it/s]"
     ]
    },
    {
     "name": "stdout",
     "output_type": "stream",
     "text": [
      "                   all        328        350      0.912      0.825      0.893      0.547\n",
      "\u001b[34m\u001b[1mEarlyStopping: \u001b[0mTraining stopped early as no improvement observed in last 25 epochs. Best results observed at epoch 1, best model saved as best.pt.\n",
      "To update EarlyStopping(patience=25) pass a new patience value, i.e. `patience=300` or use `patience=0` to disable EarlyStopping.\n"
     ]
    },
    {
     "name": "stderr",
     "output_type": "stream",
     "text": [
      "\n"
     ]
    },
    {
     "name": "stdout",
     "output_type": "stream",
     "text": [
      "\n",
      "26 epochs completed in 0.248 hours.\n",
      "Optimizer stripped from /home/vv/PRG_Assessment/car-door-handle.yolov12/custom datset of handles/yolov12n_handles3/weights/last.pt, 5.5MB\n",
      "Optimizer stripped from /home/vv/PRG_Assessment/car-door-handle.yolov12/custom datset of handles/yolov12n_handles3/weights/best.pt, 5.5MB\n",
      "\n",
      "Validating /home/vv/PRG_Assessment/car-door-handle.yolov12/custom datset of handles/yolov12n_handles3/weights/best.pt...\n",
      "Ultralytics 8.3.79 🚀 Python-3.10.12 torch-2.6.0+cu124 CUDA:0 (NVIDIA GeForce RTX 4070 Laptop GPU, 7817MiB)\n",
      "YOLOv12n summary (fused): 159 layers, 2,556,923 parameters, 0 gradients, 6.3 GFLOPs\n"
     ]
    },
    {
     "name": "stderr",
     "output_type": "stream",
     "text": [
      "                 Class     Images  Instances      Box(P          R      mAP50  mAP50-95): 100%|██████████| 11/11 [00:01<00:00,  5.59it/s]\n"
     ]
    },
    {
     "name": "stdout",
     "output_type": "stream",
     "text": [
      "                   all        328        350      0.937      0.847      0.899      0.572\n",
      "Speed: 0.3ms preprocess, 2.2ms inference, 0.0ms loss, 1.3ms postprocess per image\n",
      "Results saved to \u001b[1m/home/vv/PRG_Assessment/car-door-handle.yolov12/custom datset of handles/yolov12n_handles3\u001b[0m\n"
     ]
    },
    {
     "data": {
      "text/plain": [
       "ultralytics.utils.metrics.DetMetrics object with attributes:\n",
       "\n",
       "ap_class_index: array([0])\n",
       "box: ultralytics.utils.metrics.Metric object\n",
       "confusion_matrix: <ultralytics.utils.metrics.ConfusionMatrix object at 0x751e27d1ae30>\n",
       "curves: ['Precision-Recall(B)', 'F1-Confidence(B)', 'Precision-Confidence(B)', 'Recall-Confidence(B)']\n",
       "curves_results: [[array([          0,    0.001001,    0.002002,    0.003003,    0.004004,    0.005005,    0.006006,    0.007007,    0.008008,    0.009009,     0.01001,    0.011011,    0.012012,    0.013013,    0.014014,    0.015015,    0.016016,    0.017017,    0.018018,    0.019019,     0.02002,    0.021021,    0.022022,    0.023023,\n",
       "          0.024024,    0.025025,    0.026026,    0.027027,    0.028028,    0.029029,     0.03003,    0.031031,    0.032032,    0.033033,    0.034034,    0.035035,    0.036036,    0.037037,    0.038038,    0.039039,     0.04004,    0.041041,    0.042042,    0.043043,    0.044044,    0.045045,    0.046046,    0.047047,\n",
       "          0.048048,    0.049049,     0.05005,    0.051051,    0.052052,    0.053053,    0.054054,    0.055055,    0.056056,    0.057057,    0.058058,    0.059059,     0.06006,    0.061061,    0.062062,    0.063063,    0.064064,    0.065065,    0.066066,    0.067067,    0.068068,    0.069069,     0.07007,    0.071071,\n",
       "          0.072072,    0.073073,    0.074074,    0.075075,    0.076076,    0.077077,    0.078078,    0.079079,     0.08008,    0.081081,    0.082082,    0.083083,    0.084084,    0.085085,    0.086086,    0.087087,    0.088088,    0.089089,     0.09009,    0.091091,    0.092092,    0.093093,    0.094094,    0.095095,\n",
       "          0.096096,    0.097097,    0.098098,    0.099099,      0.1001,      0.1011,      0.1021,      0.1031,      0.1041,     0.10511,     0.10611,     0.10711,     0.10811,     0.10911,     0.11011,     0.11111,     0.11211,     0.11311,     0.11411,     0.11512,     0.11612,     0.11712,     0.11812,     0.11912,\n",
       "           0.12012,     0.12112,     0.12212,     0.12312,     0.12412,     0.12513,     0.12613,     0.12713,     0.12813,     0.12913,     0.13013,     0.13113,     0.13213,     0.13313,     0.13413,     0.13514,     0.13614,     0.13714,     0.13814,     0.13914,     0.14014,     0.14114,     0.14214,     0.14314,\n",
       "           0.14414,     0.14515,     0.14615,     0.14715,     0.14815,     0.14915,     0.15015,     0.15115,     0.15215,     0.15315,     0.15415,     0.15516,     0.15616,     0.15716,     0.15816,     0.15916,     0.16016,     0.16116,     0.16216,     0.16316,     0.16416,     0.16517,     0.16617,     0.16717,\n",
       "           0.16817,     0.16917,     0.17017,     0.17117,     0.17217,     0.17317,     0.17417,     0.17518,     0.17618,     0.17718,     0.17818,     0.17918,     0.18018,     0.18118,     0.18218,     0.18318,     0.18418,     0.18519,     0.18619,     0.18719,     0.18819,     0.18919,     0.19019,     0.19119,\n",
       "           0.19219,     0.19319,     0.19419,      0.1952,      0.1962,      0.1972,      0.1982,      0.1992,      0.2002,      0.2012,      0.2022,      0.2032,      0.2042,     0.20521,     0.20621,     0.20721,     0.20821,     0.20921,     0.21021,     0.21121,     0.21221,     0.21321,     0.21421,     0.21522,\n",
       "           0.21622,     0.21722,     0.21822,     0.21922,     0.22022,     0.22122,     0.22222,     0.22322,     0.22422,     0.22523,     0.22623,     0.22723,     0.22823,     0.22923,     0.23023,     0.23123,     0.23223,     0.23323,     0.23423,     0.23524,     0.23624,     0.23724,     0.23824,     0.23924,\n",
       "           0.24024,     0.24124,     0.24224,     0.24324,     0.24424,     0.24525,     0.24625,     0.24725,     0.24825,     0.24925,     0.25025,     0.25125,     0.25225,     0.25325,     0.25425,     0.25526,     0.25626,     0.25726,     0.25826,     0.25926,     0.26026,     0.26126,     0.26226,     0.26326,\n",
       "           0.26426,     0.26527,     0.26627,     0.26727,     0.26827,     0.26927,     0.27027,     0.27127,     0.27227,     0.27327,     0.27427,     0.27528,     0.27628,     0.27728,     0.27828,     0.27928,     0.28028,     0.28128,     0.28228,     0.28328,     0.28428,     0.28529,     0.28629,     0.28729,\n",
       "           0.28829,     0.28929,     0.29029,     0.29129,     0.29229,     0.29329,     0.29429,      0.2953,      0.2963,      0.2973,      0.2983,      0.2993,      0.3003,      0.3013,      0.3023,      0.3033,      0.3043,     0.30531,     0.30631,     0.30731,     0.30831,     0.30931,     0.31031,     0.31131,\n",
       "           0.31231,     0.31331,     0.31431,     0.31532,     0.31632,     0.31732,     0.31832,     0.31932,     0.32032,     0.32132,     0.32232,     0.32332,     0.32432,     0.32533,     0.32633,     0.32733,     0.32833,     0.32933,     0.33033,     0.33133,     0.33233,     0.33333,     0.33433,     0.33534,\n",
       "           0.33634,     0.33734,     0.33834,     0.33934,     0.34034,     0.34134,     0.34234,     0.34334,     0.34434,     0.34535,     0.34635,     0.34735,     0.34835,     0.34935,     0.35035,     0.35135,     0.35235,     0.35335,     0.35435,     0.35536,     0.35636,     0.35736,     0.35836,     0.35936,\n",
       "           0.36036,     0.36136,     0.36236,     0.36336,     0.36436,     0.36537,     0.36637,     0.36737,     0.36837,     0.36937,     0.37037,     0.37137,     0.37237,     0.37337,     0.37437,     0.37538,     0.37638,     0.37738,     0.37838,     0.37938,     0.38038,     0.38138,     0.38238,     0.38338,\n",
       "           0.38438,     0.38539,     0.38639,     0.38739,     0.38839,     0.38939,     0.39039,     0.39139,     0.39239,     0.39339,     0.39439,      0.3954,      0.3964,      0.3974,      0.3984,      0.3994,      0.4004,      0.4014,      0.4024,      0.4034,      0.4044,     0.40541,     0.40641,     0.40741,\n",
       "           0.40841,     0.40941,     0.41041,     0.41141,     0.41241,     0.41341,     0.41441,     0.41542,     0.41642,     0.41742,     0.41842,     0.41942,     0.42042,     0.42142,     0.42242,     0.42342,     0.42442,     0.42543,     0.42643,     0.42743,     0.42843,     0.42943,     0.43043,     0.43143,\n",
       "           0.43243,     0.43343,     0.43443,     0.43544,     0.43644,     0.43744,     0.43844,     0.43944,     0.44044,     0.44144,     0.44244,     0.44344,     0.44444,     0.44545,     0.44645,     0.44745,     0.44845,     0.44945,     0.45045,     0.45145,     0.45245,     0.45345,     0.45445,     0.45546,\n",
       "           0.45646,     0.45746,     0.45846,     0.45946,     0.46046,     0.46146,     0.46246,     0.46346,     0.46446,     0.46547,     0.46647,     0.46747,     0.46847,     0.46947,     0.47047,     0.47147,     0.47247,     0.47347,     0.47447,     0.47548,     0.47648,     0.47748,     0.47848,     0.47948,\n",
       "           0.48048,     0.48148,     0.48248,     0.48348,     0.48448,     0.48549,     0.48649,     0.48749,     0.48849,     0.48949,     0.49049,     0.49149,     0.49249,     0.49349,     0.49449,      0.4955,      0.4965,      0.4975,      0.4985,      0.4995,      0.5005,      0.5015,      0.5025,      0.5035,\n",
       "            0.5045,     0.50551,     0.50651,     0.50751,     0.50851,     0.50951,     0.51051,     0.51151,     0.51251,     0.51351,     0.51451,     0.51552,     0.51652,     0.51752,     0.51852,     0.51952,     0.52052,     0.52152,     0.52252,     0.52352,     0.52452,     0.52553,     0.52653,     0.52753,\n",
       "           0.52853,     0.52953,     0.53053,     0.53153,     0.53253,     0.53353,     0.53453,     0.53554,     0.53654,     0.53754,     0.53854,     0.53954,     0.54054,     0.54154,     0.54254,     0.54354,     0.54454,     0.54555,     0.54655,     0.54755,     0.54855,     0.54955,     0.55055,     0.55155,\n",
       "           0.55255,     0.55355,     0.55455,     0.55556,     0.55656,     0.55756,     0.55856,     0.55956,     0.56056,     0.56156,     0.56256,     0.56356,     0.56456,     0.56557,     0.56657,     0.56757,     0.56857,     0.56957,     0.57057,     0.57157,     0.57257,     0.57357,     0.57457,     0.57558,\n",
       "           0.57658,     0.57758,     0.57858,     0.57958,     0.58058,     0.58158,     0.58258,     0.58358,     0.58458,     0.58559,     0.58659,     0.58759,     0.58859,     0.58959,     0.59059,     0.59159,     0.59259,     0.59359,     0.59459,      0.5956,      0.5966,      0.5976,      0.5986,      0.5996,\n",
       "            0.6006,      0.6016,      0.6026,      0.6036,      0.6046,     0.60561,     0.60661,     0.60761,     0.60861,     0.60961,     0.61061,     0.61161,     0.61261,     0.61361,     0.61461,     0.61562,     0.61662,     0.61762,     0.61862,     0.61962,     0.62062,     0.62162,     0.62262,     0.62362,\n",
       "           0.62462,     0.62563,     0.62663,     0.62763,     0.62863,     0.62963,     0.63063,     0.63163,     0.63263,     0.63363,     0.63463,     0.63564,     0.63664,     0.63764,     0.63864,     0.63964,     0.64064,     0.64164,     0.64264,     0.64364,     0.64464,     0.64565,     0.64665,     0.64765,\n",
       "           0.64865,     0.64965,     0.65065,     0.65165,     0.65265,     0.65365,     0.65465,     0.65566,     0.65666,     0.65766,     0.65866,     0.65966,     0.66066,     0.66166,     0.66266,     0.66366,     0.66466,     0.66567,     0.66667,     0.66767,     0.66867,     0.66967,     0.67067,     0.67167,\n",
       "           0.67267,     0.67367,     0.67467,     0.67568,     0.67668,     0.67768,     0.67868,     0.67968,     0.68068,     0.68168,     0.68268,     0.68368,     0.68468,     0.68569,     0.68669,     0.68769,     0.68869,     0.68969,     0.69069,     0.69169,     0.69269,     0.69369,     0.69469,      0.6957,\n",
       "            0.6967,      0.6977,      0.6987,      0.6997,      0.7007,      0.7017,      0.7027,      0.7037,      0.7047,     0.70571,     0.70671,     0.70771,     0.70871,     0.70971,     0.71071,     0.71171,     0.71271,     0.71371,     0.71471,     0.71572,     0.71672,     0.71772,     0.71872,     0.71972,\n",
       "           0.72072,     0.72172,     0.72272,     0.72372,     0.72472,     0.72573,     0.72673,     0.72773,     0.72873,     0.72973,     0.73073,     0.73173,     0.73273,     0.73373,     0.73473,     0.73574,     0.73674,     0.73774,     0.73874,     0.73974,     0.74074,     0.74174,     0.74274,     0.74374,\n",
       "           0.74474,     0.74575,     0.74675,     0.74775,     0.74875,     0.74975,     0.75075,     0.75175,     0.75275,     0.75375,     0.75475,     0.75576,     0.75676,     0.75776,     0.75876,     0.75976,     0.76076,     0.76176,     0.76276,     0.76376,     0.76476,     0.76577,     0.76677,     0.76777,\n",
       "           0.76877,     0.76977,     0.77077,     0.77177,     0.77277,     0.77377,     0.77477,     0.77578,     0.77678,     0.77778,     0.77878,     0.77978,     0.78078,     0.78178,     0.78278,     0.78378,     0.78478,     0.78579,     0.78679,     0.78779,     0.78879,     0.78979,     0.79079,     0.79179,\n",
       "           0.79279,     0.79379,     0.79479,      0.7958,      0.7968,      0.7978,      0.7988,      0.7998,      0.8008,      0.8018,      0.8028,      0.8038,      0.8048,     0.80581,     0.80681,     0.80781,     0.80881,     0.80981,     0.81081,     0.81181,     0.81281,     0.81381,     0.81481,     0.81582,\n",
       "           0.81682,     0.81782,     0.81882,     0.81982,     0.82082,     0.82182,     0.82282,     0.82382,     0.82482,     0.82583,     0.82683,     0.82783,     0.82883,     0.82983,     0.83083,     0.83183,     0.83283,     0.83383,     0.83483,     0.83584,     0.83684,     0.83784,     0.83884,     0.83984,\n",
       "           0.84084,     0.84184,     0.84284,     0.84384,     0.84484,     0.84585,     0.84685,     0.84785,     0.84885,     0.84985,     0.85085,     0.85185,     0.85285,     0.85385,     0.85485,     0.85586,     0.85686,     0.85786,     0.85886,     0.85986,     0.86086,     0.86186,     0.86286,     0.86386,\n",
       "           0.86486,     0.86587,     0.86687,     0.86787,     0.86887,     0.86987,     0.87087,     0.87187,     0.87287,     0.87387,     0.87487,     0.87588,     0.87688,     0.87788,     0.87888,     0.87988,     0.88088,     0.88188,     0.88288,     0.88388,     0.88488,     0.88589,     0.88689,     0.88789,\n",
       "           0.88889,     0.88989,     0.89089,     0.89189,     0.89289,     0.89389,     0.89489,      0.8959,      0.8969,      0.8979,      0.8989,      0.8999,      0.9009,      0.9019,      0.9029,      0.9039,      0.9049,     0.90591,     0.90691,     0.90791,     0.90891,     0.90991,     0.91091,     0.91191,\n",
       "           0.91291,     0.91391,     0.91491,     0.91592,     0.91692,     0.91792,     0.91892,     0.91992,     0.92092,     0.92192,     0.92292,     0.92392,     0.92492,     0.92593,     0.92693,     0.92793,     0.92893,     0.92993,     0.93093,     0.93193,     0.93293,     0.93393,     0.93493,     0.93594,\n",
       "           0.93694,     0.93794,     0.93894,     0.93994,     0.94094,     0.94194,     0.94294,     0.94394,     0.94494,     0.94595,     0.94695,     0.94795,     0.94895,     0.94995,     0.95095,     0.95195,     0.95295,     0.95395,     0.95495,     0.95596,     0.95696,     0.95796,     0.95896,     0.95996,\n",
       "           0.96096,     0.96196,     0.96296,     0.96396,     0.96496,     0.96597,     0.96697,     0.96797,     0.96897,     0.96997,     0.97097,     0.97197,     0.97297,     0.97397,     0.97497,     0.97598,     0.97698,     0.97798,     0.97898,     0.97998,     0.98098,     0.98198,     0.98298,     0.98398,\n",
       "           0.98498,     0.98599,     0.98699,     0.98799,     0.98899,     0.98999,     0.99099,     0.99199,     0.99299,     0.99399,     0.99499,       0.996,       0.997,       0.998,       0.999,           1]), array([[          1,           1,           1,           1,           1,           1,           1,           1,           1,           1,           1,           1,           1,           1,           1,           1,           1,           1,           1,           1,           1,           1,           1,\n",
       "                  1,           1,           1,           1,           1,           1,           1,           1,           1,           1,           1,           1,           1,           1,           1,           1,           1,           1,           1,           1,           1,           1,           1,\n",
       "                  1,           1,           1,           1,           1,           1,           1,           1,           1,           1,           1,           1,           1,           1,           1,           1,           1,           1,           1,           1,           1,           1,           1,\n",
       "                  1,           1,           1,           1,           1,           1,           1,           1,           1,           1,           1,           1,           1,           1,           1,           1,           1,           1,           1,           1,           1,           1,           1,\n",
       "                  1,           1,           1,           1,           1,           1,           1,           1,           1,           1,           1,           1,           1,           1,           1,           1,           1,           1,           1,           1,           1,           1,           1,\n",
       "                  1,           1,           1,           1,           1,           1,           1,           1,           1,           1,           1,           1,           1,           1,           1,           1,           1,           1,           1,           1,           1,           1,           1,\n",
       "                  1,           1,           1,           1,           1,           1,           1,           1,           1,           1,           1,           1,           1,           1,           1,           1,           1,           1,           1,           1,           1,           1,           1,\n",
       "                  1,           1,           1,           1,           1,           1,           1,           1,           1,           1,           1,           1,           1,           1,           1,           1,           1,           1,           1,           1,           1,           1,           1,\n",
       "                  1,           1,           1,           1,           1,           1,           1,           1,           1,           1,           1,           1,           1,           1,           1,           1,           1,           1,           1,           1,           1,           1,           1,\n",
       "                  1,           1,           1,           1,           1,           1,           1,           1,           1,           1,           1,           1,           1,           1,           1,           1,           1,           1,           1,           1,           1,           1,           1,\n",
       "                  1,           1,           1,           1,           1,           1,           1,           1,           1,           1,           1,           1,           1,           1,           1,           1,           1,           1,           1,           1,           1,           1,           1,\n",
       "                  1,           1,           1,           1,           1,           1,           1,           1,           1,           1,           1,           1,           1,           1,           1,           1,           1,           1,           1,           1,           1,           1,           1,\n",
       "                  1,           1,           1,           1,           1,           1,           1,           1,           1,           1,           1,           1,           1,           1,           1,           1,           1,           1,           1,           1,           1,           1,           1,\n",
       "                  1,           1,           1,           1,           1,           1,           1,           1,           1,           1,           1,           1,           1,           1,           1,           1,           1,           1,           1,           1,           1,           1,           1,\n",
       "                  1,           1,           1,           1,           1,           1,           1,           1,           1,           1,           1,           1,           1,           1,           1,           1,           1,           1,           1,           1,           1,           1,           1,\n",
       "                  1,           1,           1,           1,     0.99387,     0.99387,     0.99387,     0.99387,     0.99387,     0.99387,     0.99387,     0.99387,     0.99387,     0.99387,     0.99387,     0.99387,     0.99387,     0.99387,     0.99387,     0.99387,     0.99387,     0.99387,     0.99387,\n",
       "            0.99387,     0.99387,     0.99387,     0.99387,     0.99387,     0.99387,     0.99387,     0.99387,     0.99387,     0.99387,     0.99387,     0.99387,     0.99387,     0.99387,     0.99387,     0.99387,     0.99387,     0.99387,     0.99387,     0.99387,     0.99387,     0.99387,     0.99387,\n",
       "            0.99387,     0.99387,     0.99387,     0.99387,     0.99387,     0.99387,     0.99387,     0.99387,     0.99387,     0.99387,     0.99387,     0.99387,     0.99387,     0.99387,     0.99387,     0.99387,     0.99387,     0.99387,     0.99387,     0.99387,     0.99387,     0.99387,     0.99387,\n",
       "            0.99387,     0.99387,     0.99387,     0.99387,     0.99387,     0.99387,     0.99387,     0.99387,     0.99387,     0.99387,     0.99387,     0.99387,     0.99387,     0.99387,     0.99387,     0.99387,     0.99387,     0.99387,     0.99387,     0.99387,     0.99387,     0.99387,     0.99387,\n",
       "            0.99387,     0.99387,     0.99387,     0.99387,     0.99387,     0.99387,     0.99387,     0.99387,     0.99387,     0.99387,     0.99387,     0.99387,     0.99387,     0.99387,     0.99387,     0.99387,     0.99387,     0.99387,     0.99387,     0.99387,     0.99387,     0.99387,     0.99387,\n",
       "            0.99387,     0.99387,     0.99387,     0.98889,     0.98889,     0.98889,     0.98889,     0.98889,     0.98889,     0.98889,     0.98889,     0.98889,     0.98889,     0.98889,     0.98889,     0.98889,     0.98889,     0.98889,     0.98889,     0.98889,     0.98889,     0.98889,     0.98889,\n",
       "            0.98889,     0.98889,     0.98889,     0.98889,     0.98889,     0.98889,     0.98889,     0.98889,     0.98889,     0.98889,     0.98889,     0.98889,     0.98889,     0.98889,     0.98889,     0.98889,     0.98889,     0.98889,     0.98889,     0.98889,     0.98889,     0.98889,     0.98889,\n",
       "            0.98889,     0.98889,     0.98889,     0.98361,     0.98361,     0.98361,     0.98361,     0.98361,     0.98148,     0.98148,     0.98148,     0.98148,     0.98148,     0.98148,     0.98148,     0.98148,     0.98148,     0.98148,     0.98148,     0.98148,     0.98148,     0.98148,     0.98148,\n",
       "            0.98148,     0.98148,     0.98148,     0.98148,     0.98148,     0.98148,     0.98148,     0.98148,     0.98148,     0.98148,     0.98148,     0.98148,     0.98148,     0.98148,     0.98148,     0.98148,     0.98148,     0.98148,     0.98148,     0.98148,     0.98148,     0.98148,     0.98148,\n",
       "            0.98148,     0.98148,     0.98148,     0.98148,     0.98148,     0.98148,     0.98148,     0.98148,     0.98148,     0.98148,     0.98148,     0.98148,     0.98148,     0.98148,     0.98148,     0.98148,     0.98148,     0.98148,     0.98148,     0.98148,     0.98148,     0.98148,     0.98148,\n",
       "            0.98148,     0.98148,     0.98148,     0.98148,     0.98148,     0.98148,     0.98148,     0.98148,     0.98148,     0.98148,     0.98148,     0.98148,     0.98148,     0.98148,     0.98148,     0.98148,     0.98148,     0.98148,     0.98148,     0.98148,     0.98148,     0.98148,     0.98148,\n",
       "            0.98148,     0.98148,     0.98148,     0.98148,     0.98148,     0.98148,     0.98148,     0.98148,     0.97788,     0.97788,     0.97788,     0.97788,     0.97788,     0.97788,     0.97788,     0.97788,     0.97788,     0.97788,     0.97788,     0.97788,     0.97788,     0.97788,     0.97788,\n",
       "            0.97788,     0.97788,     0.97788,     0.97788,     0.97788,     0.97788,     0.97788,     0.97788,     0.97788,     0.97788,      0.9751,      0.9751,      0.9751,      0.9751,      0.9751,      0.9751,      0.9751,      0.9751,      0.9751,      0.9751,      0.9751,      0.9751,      0.9751,\n",
       "             0.9751,      0.9751,      0.9751,      0.9751,      0.9751,      0.9751,      0.9751,      0.9751,      0.9751,      0.9751,      0.9751,      0.9751,      0.9751,      0.9751,      0.9751,      0.9751,      0.9751,      0.9751,      0.9751,      0.9751,      0.9751,      0.9751,      0.9751,\n",
       "             0.9751,      0.9751,      0.9751,      0.9751,     0.97464,     0.97464,     0.97464,     0.97464,     0.97464,     0.97464,     0.97464,     0.97464,     0.97464,     0.97464,     0.97464,     0.97464,     0.97464,     0.97464,     0.97464,     0.97464,     0.97464,     0.97464,     0.97464,\n",
       "            0.97464,     0.97464,     0.97464,     0.97464,     0.97464,     0.97464,     0.97464,     0.97464,     0.97464,     0.97464,     0.97464,     0.97464,     0.97464,     0.97464,     0.97464,     0.97464,     0.97464,     0.97464,     0.97464,     0.97464,     0.97464,     0.97464,     0.97464,\n",
       "            0.97464,     0.97464,     0.97464,     0.97464,     0.97464,     0.97464,     0.97464,     0.97464,     0.97464,     0.97464,     0.97464,     0.97464,     0.97464,     0.97464,     0.97464,     0.97464,     0.97464,     0.97464,     0.97464,     0.97464,     0.97464,     0.97464,     0.97464,\n",
       "            0.97464,     0.97464,     0.97464,     0.97464,     0.97464,     0.97464,     0.97464,     0.97464,     0.97464,     0.97464,     0.97464,     0.97464,     0.97464,     0.97464,     0.97464,     0.97464,     0.97464,     0.97464,     0.97464,     0.97464,     0.97464,     0.97464,     0.97464,\n",
       "            0.97464,     0.97464,     0.97464,     0.97464,     0.97464,     0.97464,     0.97464,     0.97464,     0.97464,     0.97143,     0.97143,     0.97143,     0.97143,     0.97143,     0.97143,     0.97143,     0.97143,     0.97143,     0.96466,     0.96466,     0.96466,     0.95862,     0.95862,\n",
       "            0.95862,     0.95862,     0.95862,     0.95862,     0.95862,     0.95862,     0.95862,     0.95862,     0.95862,     0.95862,     0.95862,     0.95862,     0.95608,     0.95608,     0.95608,     0.95608,     0.95608,     0.95608,     0.95608,     0.95608,     0.95608,     0.95608,     0.95608,\n",
       "            0.95608,     0.95608,     0.95608,     0.95333,     0.95333,     0.95333,     0.95333,     0.95333,     0.95333,     0.95333,     0.95333,     0.95333,     0.94839,     0.94839,     0.94839,     0.94839,     0.94839,     0.94839,     0.94839,     0.94839,     0.94839,     0.94839,     0.94839,\n",
       "            0.94839,     0.94839,     0.94839,     0.94839,     0.94839,     0.94839,     0.94839,     0.94839,     0.94839,     0.94839,     0.94839,     0.94839,     0.94249,     0.94249,     0.94249,     0.93968,     0.93968,     0.93691,     0.93691,     0.93691,      0.9226,      0.9226,      0.9226,\n",
       "            0.91437,     0.91437,     0.91437,      0.9039,      0.9039,      0.9039,      0.9039,      0.9039,      0.9039,     0.90149,     0.90149,     0.89381,     0.89381,     0.89381,     0.87106,     0.87106,     0.87106,     0.86648,     0.86648,     0.86648,     0.85237,     0.85237,     0.85237,\n",
       "            0.85042,     0.85042,     0.85042,     0.83019,     0.83019,     0.83019,     0.77444,     0.77444,     0.76355,     0.76355,     0.76355,     0.75854,     0.75854,     0.75854,     0.70112,     0.70112,     0.70112,     0.69556,     0.69556,     0.69556,      0.6501,      0.6501,      0.6501,\n",
       "            0.64155,     0.64155,     0.64155,     0.60653,     0.60653,     0.60381,     0.60381,     0.60381,     0.58889,     0.58889,     0.58889,      0.5104,      0.5104,      0.5104,     0.49612,     0.49612,     0.49612,     0.45792,     0.45792,     0.45792,     0.39753,     0.39753,     0.39753,\n",
       "             0.3818,      0.3818,     0.34951,     0.34951,     0.34951,     0.34538,     0.34538,     0.34538,     0.32996,     0.32996,     0.32996,     0.27572,     0.27572,     0.27572,     0.24625,     0.24625,     0.24625,     0.19251,     0.19251,     0.19251,     0.16137,     0.16137,     0.11643,\n",
       "            0.11439,     0.11235,      0.1103,     0.10826,     0.10622,     0.10418,     0.10213,     0.10009,    0.098049,    0.096006,    0.093963,    0.091921,    0.089878,    0.087835,    0.085793,     0.08375,    0.081707,    0.079664,    0.077622,    0.075579,    0.073536,    0.071494,    0.069451,\n",
       "           0.067408,    0.065366,    0.063323,     0.06128,    0.059238,    0.057195,    0.055152,     0.05311,    0.051067,    0.049024,    0.046982,    0.044939,    0.042896,    0.040854,    0.038811,    0.036768,    0.034726,    0.032683,     0.03064,    0.028598,    0.026555,    0.024512,    0.022469,\n",
       "           0.020427,    0.018384,    0.016341,    0.014299,    0.012256,    0.010213,   0.0081707,    0.006128,   0.0040854,   0.0020427,           0]]), 'Recall', 'Precision'], [array([          0,    0.001001,    0.002002,    0.003003,    0.004004,    0.005005,    0.006006,    0.007007,    0.008008,    0.009009,     0.01001,    0.011011,    0.012012,    0.013013,    0.014014,    0.015015,    0.016016,    0.017017,    0.018018,    0.019019,     0.02002,    0.021021,    0.022022,    0.023023,\n",
       "          0.024024,    0.025025,    0.026026,    0.027027,    0.028028,    0.029029,     0.03003,    0.031031,    0.032032,    0.033033,    0.034034,    0.035035,    0.036036,    0.037037,    0.038038,    0.039039,     0.04004,    0.041041,    0.042042,    0.043043,    0.044044,    0.045045,    0.046046,    0.047047,\n",
       "          0.048048,    0.049049,     0.05005,    0.051051,    0.052052,    0.053053,    0.054054,    0.055055,    0.056056,    0.057057,    0.058058,    0.059059,     0.06006,    0.061061,    0.062062,    0.063063,    0.064064,    0.065065,    0.066066,    0.067067,    0.068068,    0.069069,     0.07007,    0.071071,\n",
       "          0.072072,    0.073073,    0.074074,    0.075075,    0.076076,    0.077077,    0.078078,    0.079079,     0.08008,    0.081081,    0.082082,    0.083083,    0.084084,    0.085085,    0.086086,    0.087087,    0.088088,    0.089089,     0.09009,    0.091091,    0.092092,    0.093093,    0.094094,    0.095095,\n",
       "          0.096096,    0.097097,    0.098098,    0.099099,      0.1001,      0.1011,      0.1021,      0.1031,      0.1041,     0.10511,     0.10611,     0.10711,     0.10811,     0.10911,     0.11011,     0.11111,     0.11211,     0.11311,     0.11411,     0.11512,     0.11612,     0.11712,     0.11812,     0.11912,\n",
       "           0.12012,     0.12112,     0.12212,     0.12312,     0.12412,     0.12513,     0.12613,     0.12713,     0.12813,     0.12913,     0.13013,     0.13113,     0.13213,     0.13313,     0.13413,     0.13514,     0.13614,     0.13714,     0.13814,     0.13914,     0.14014,     0.14114,     0.14214,     0.14314,\n",
       "           0.14414,     0.14515,     0.14615,     0.14715,     0.14815,     0.14915,     0.15015,     0.15115,     0.15215,     0.15315,     0.15415,     0.15516,     0.15616,     0.15716,     0.15816,     0.15916,     0.16016,     0.16116,     0.16216,     0.16316,     0.16416,     0.16517,     0.16617,     0.16717,\n",
       "           0.16817,     0.16917,     0.17017,     0.17117,     0.17217,     0.17317,     0.17417,     0.17518,     0.17618,     0.17718,     0.17818,     0.17918,     0.18018,     0.18118,     0.18218,     0.18318,     0.18418,     0.18519,     0.18619,     0.18719,     0.18819,     0.18919,     0.19019,     0.19119,\n",
       "           0.19219,     0.19319,     0.19419,      0.1952,      0.1962,      0.1972,      0.1982,      0.1992,      0.2002,      0.2012,      0.2022,      0.2032,      0.2042,     0.20521,     0.20621,     0.20721,     0.20821,     0.20921,     0.21021,     0.21121,     0.21221,     0.21321,     0.21421,     0.21522,\n",
       "           0.21622,     0.21722,     0.21822,     0.21922,     0.22022,     0.22122,     0.22222,     0.22322,     0.22422,     0.22523,     0.22623,     0.22723,     0.22823,     0.22923,     0.23023,     0.23123,     0.23223,     0.23323,     0.23423,     0.23524,     0.23624,     0.23724,     0.23824,     0.23924,\n",
       "           0.24024,     0.24124,     0.24224,     0.24324,     0.24424,     0.24525,     0.24625,     0.24725,     0.24825,     0.24925,     0.25025,     0.25125,     0.25225,     0.25325,     0.25425,     0.25526,     0.25626,     0.25726,     0.25826,     0.25926,     0.26026,     0.26126,     0.26226,     0.26326,\n",
       "           0.26426,     0.26527,     0.26627,     0.26727,     0.26827,     0.26927,     0.27027,     0.27127,     0.27227,     0.27327,     0.27427,     0.27528,     0.27628,     0.27728,     0.27828,     0.27928,     0.28028,     0.28128,     0.28228,     0.28328,     0.28428,     0.28529,     0.28629,     0.28729,\n",
       "           0.28829,     0.28929,     0.29029,     0.29129,     0.29229,     0.29329,     0.29429,      0.2953,      0.2963,      0.2973,      0.2983,      0.2993,      0.3003,      0.3013,      0.3023,      0.3033,      0.3043,     0.30531,     0.30631,     0.30731,     0.30831,     0.30931,     0.31031,     0.31131,\n",
       "           0.31231,     0.31331,     0.31431,     0.31532,     0.31632,     0.31732,     0.31832,     0.31932,     0.32032,     0.32132,     0.32232,     0.32332,     0.32432,     0.32533,     0.32633,     0.32733,     0.32833,     0.32933,     0.33033,     0.33133,     0.33233,     0.33333,     0.33433,     0.33534,\n",
       "           0.33634,     0.33734,     0.33834,     0.33934,     0.34034,     0.34134,     0.34234,     0.34334,     0.34434,     0.34535,     0.34635,     0.34735,     0.34835,     0.34935,     0.35035,     0.35135,     0.35235,     0.35335,     0.35435,     0.35536,     0.35636,     0.35736,     0.35836,     0.35936,\n",
       "           0.36036,     0.36136,     0.36236,     0.36336,     0.36436,     0.36537,     0.36637,     0.36737,     0.36837,     0.36937,     0.37037,     0.37137,     0.37237,     0.37337,     0.37437,     0.37538,     0.37638,     0.37738,     0.37838,     0.37938,     0.38038,     0.38138,     0.38238,     0.38338,\n",
       "           0.38438,     0.38539,     0.38639,     0.38739,     0.38839,     0.38939,     0.39039,     0.39139,     0.39239,     0.39339,     0.39439,      0.3954,      0.3964,      0.3974,      0.3984,      0.3994,      0.4004,      0.4014,      0.4024,      0.4034,      0.4044,     0.40541,     0.40641,     0.40741,\n",
       "           0.40841,     0.40941,     0.41041,     0.41141,     0.41241,     0.41341,     0.41441,     0.41542,     0.41642,     0.41742,     0.41842,     0.41942,     0.42042,     0.42142,     0.42242,     0.42342,     0.42442,     0.42543,     0.42643,     0.42743,     0.42843,     0.42943,     0.43043,     0.43143,\n",
       "           0.43243,     0.43343,     0.43443,     0.43544,     0.43644,     0.43744,     0.43844,     0.43944,     0.44044,     0.44144,     0.44244,     0.44344,     0.44444,     0.44545,     0.44645,     0.44745,     0.44845,     0.44945,     0.45045,     0.45145,     0.45245,     0.45345,     0.45445,     0.45546,\n",
       "           0.45646,     0.45746,     0.45846,     0.45946,     0.46046,     0.46146,     0.46246,     0.46346,     0.46446,     0.46547,     0.46647,     0.46747,     0.46847,     0.46947,     0.47047,     0.47147,     0.47247,     0.47347,     0.47447,     0.47548,     0.47648,     0.47748,     0.47848,     0.47948,\n",
       "           0.48048,     0.48148,     0.48248,     0.48348,     0.48448,     0.48549,     0.48649,     0.48749,     0.48849,     0.48949,     0.49049,     0.49149,     0.49249,     0.49349,     0.49449,      0.4955,      0.4965,      0.4975,      0.4985,      0.4995,      0.5005,      0.5015,      0.5025,      0.5035,\n",
       "            0.5045,     0.50551,     0.50651,     0.50751,     0.50851,     0.50951,     0.51051,     0.51151,     0.51251,     0.51351,     0.51451,     0.51552,     0.51652,     0.51752,     0.51852,     0.51952,     0.52052,     0.52152,     0.52252,     0.52352,     0.52452,     0.52553,     0.52653,     0.52753,\n",
       "           0.52853,     0.52953,     0.53053,     0.53153,     0.53253,     0.53353,     0.53453,     0.53554,     0.53654,     0.53754,     0.53854,     0.53954,     0.54054,     0.54154,     0.54254,     0.54354,     0.54454,     0.54555,     0.54655,     0.54755,     0.54855,     0.54955,     0.55055,     0.55155,\n",
       "           0.55255,     0.55355,     0.55455,     0.55556,     0.55656,     0.55756,     0.55856,     0.55956,     0.56056,     0.56156,     0.56256,     0.56356,     0.56456,     0.56557,     0.56657,     0.56757,     0.56857,     0.56957,     0.57057,     0.57157,     0.57257,     0.57357,     0.57457,     0.57558,\n",
       "           0.57658,     0.57758,     0.57858,     0.57958,     0.58058,     0.58158,     0.58258,     0.58358,     0.58458,     0.58559,     0.58659,     0.58759,     0.58859,     0.58959,     0.59059,     0.59159,     0.59259,     0.59359,     0.59459,      0.5956,      0.5966,      0.5976,      0.5986,      0.5996,\n",
       "            0.6006,      0.6016,      0.6026,      0.6036,      0.6046,     0.60561,     0.60661,     0.60761,     0.60861,     0.60961,     0.61061,     0.61161,     0.61261,     0.61361,     0.61461,     0.61562,     0.61662,     0.61762,     0.61862,     0.61962,     0.62062,     0.62162,     0.62262,     0.62362,\n",
       "           0.62462,     0.62563,     0.62663,     0.62763,     0.62863,     0.62963,     0.63063,     0.63163,     0.63263,     0.63363,     0.63463,     0.63564,     0.63664,     0.63764,     0.63864,     0.63964,     0.64064,     0.64164,     0.64264,     0.64364,     0.64464,     0.64565,     0.64665,     0.64765,\n",
       "           0.64865,     0.64965,     0.65065,     0.65165,     0.65265,     0.65365,     0.65465,     0.65566,     0.65666,     0.65766,     0.65866,     0.65966,     0.66066,     0.66166,     0.66266,     0.66366,     0.66466,     0.66567,     0.66667,     0.66767,     0.66867,     0.66967,     0.67067,     0.67167,\n",
       "           0.67267,     0.67367,     0.67467,     0.67568,     0.67668,     0.67768,     0.67868,     0.67968,     0.68068,     0.68168,     0.68268,     0.68368,     0.68468,     0.68569,     0.68669,     0.68769,     0.68869,     0.68969,     0.69069,     0.69169,     0.69269,     0.69369,     0.69469,      0.6957,\n",
       "            0.6967,      0.6977,      0.6987,      0.6997,      0.7007,      0.7017,      0.7027,      0.7037,      0.7047,     0.70571,     0.70671,     0.70771,     0.70871,     0.70971,     0.71071,     0.71171,     0.71271,     0.71371,     0.71471,     0.71572,     0.71672,     0.71772,     0.71872,     0.71972,\n",
       "           0.72072,     0.72172,     0.72272,     0.72372,     0.72472,     0.72573,     0.72673,     0.72773,     0.72873,     0.72973,     0.73073,     0.73173,     0.73273,     0.73373,     0.73473,     0.73574,     0.73674,     0.73774,     0.73874,     0.73974,     0.74074,     0.74174,     0.74274,     0.74374,\n",
       "           0.74474,     0.74575,     0.74675,     0.74775,     0.74875,     0.74975,     0.75075,     0.75175,     0.75275,     0.75375,     0.75475,     0.75576,     0.75676,     0.75776,     0.75876,     0.75976,     0.76076,     0.76176,     0.76276,     0.76376,     0.76476,     0.76577,     0.76677,     0.76777,\n",
       "           0.76877,     0.76977,     0.77077,     0.77177,     0.77277,     0.77377,     0.77477,     0.77578,     0.77678,     0.77778,     0.77878,     0.77978,     0.78078,     0.78178,     0.78278,     0.78378,     0.78478,     0.78579,     0.78679,     0.78779,     0.78879,     0.78979,     0.79079,     0.79179,\n",
       "           0.79279,     0.79379,     0.79479,      0.7958,      0.7968,      0.7978,      0.7988,      0.7998,      0.8008,      0.8018,      0.8028,      0.8038,      0.8048,     0.80581,     0.80681,     0.80781,     0.80881,     0.80981,     0.81081,     0.81181,     0.81281,     0.81381,     0.81481,     0.81582,\n",
       "           0.81682,     0.81782,     0.81882,     0.81982,     0.82082,     0.82182,     0.82282,     0.82382,     0.82482,     0.82583,     0.82683,     0.82783,     0.82883,     0.82983,     0.83083,     0.83183,     0.83283,     0.83383,     0.83483,     0.83584,     0.83684,     0.83784,     0.83884,     0.83984,\n",
       "           0.84084,     0.84184,     0.84284,     0.84384,     0.84484,     0.84585,     0.84685,     0.84785,     0.84885,     0.84985,     0.85085,     0.85185,     0.85285,     0.85385,     0.85485,     0.85586,     0.85686,     0.85786,     0.85886,     0.85986,     0.86086,     0.86186,     0.86286,     0.86386,\n",
       "           0.86486,     0.86587,     0.86687,     0.86787,     0.86887,     0.86987,     0.87087,     0.87187,     0.87287,     0.87387,     0.87487,     0.87588,     0.87688,     0.87788,     0.87888,     0.87988,     0.88088,     0.88188,     0.88288,     0.88388,     0.88488,     0.88589,     0.88689,     0.88789,\n",
       "           0.88889,     0.88989,     0.89089,     0.89189,     0.89289,     0.89389,     0.89489,      0.8959,      0.8969,      0.8979,      0.8989,      0.8999,      0.9009,      0.9019,      0.9029,      0.9039,      0.9049,     0.90591,     0.90691,     0.90791,     0.90891,     0.90991,     0.91091,     0.91191,\n",
       "           0.91291,     0.91391,     0.91491,     0.91592,     0.91692,     0.91792,     0.91892,     0.91992,     0.92092,     0.92192,     0.92292,     0.92392,     0.92492,     0.92593,     0.92693,     0.92793,     0.92893,     0.92993,     0.93093,     0.93193,     0.93293,     0.93393,     0.93493,     0.93594,\n",
       "           0.93694,     0.93794,     0.93894,     0.93994,     0.94094,     0.94194,     0.94294,     0.94394,     0.94494,     0.94595,     0.94695,     0.94795,     0.94895,     0.94995,     0.95095,     0.95195,     0.95295,     0.95395,     0.95495,     0.95596,     0.95696,     0.95796,     0.95896,     0.95996,\n",
       "           0.96096,     0.96196,     0.96296,     0.96396,     0.96496,     0.96597,     0.96697,     0.96797,     0.96897,     0.96997,     0.97097,     0.97197,     0.97297,     0.97397,     0.97497,     0.97598,     0.97698,     0.97798,     0.97898,     0.97998,     0.98098,     0.98198,     0.98298,     0.98398,\n",
       "           0.98498,     0.98599,     0.98699,     0.98799,     0.98899,     0.98999,     0.99099,     0.99199,     0.99299,     0.99399,     0.99499,       0.996,       0.997,       0.998,       0.999,           1]), array([[    0.20755,     0.20755,     0.29296,     0.35229,     0.39324,     0.42446,     0.44813,     0.47312,     0.49394,     0.51136,     0.52878,     0.54006,     0.55444,     0.56306,     0.57482,     0.58738,     0.59703,     0.60501,     0.61593,      0.6229,     0.62886,     0.63389,     0.64056,\n",
       "            0.64496,      0.6498,     0.65341,     0.65847,     0.66223,      0.6685,      0.6728,     0.67574,        0.68,     0.68743,      0.6902,      0.6941,     0.69574,     0.69809,         0.7,      0.7023,     0.70426,     0.70814,     0.71095,     0.71415,     0.71408,     0.71864,     0.72312,\n",
       "            0.72366,     0.72382,     0.72455,     0.72522,     0.72443,     0.72632,     0.72791,     0.72937,     0.73095,     0.73574,     0.73881,     0.74065,     0.74253,     0.74659,     0.74854,     0.74904,     0.74868,     0.74955,     0.75011,     0.75317,     0.75262,     0.75283,     0.75326,\n",
       "            0.75478,     0.75667,     0.75857,     0.76206,     0.76403,      0.7666,      0.7675,     0.76791,     0.76965,     0.77248,     0.77361,     0.77526,     0.77594,     0.77645,      0.7777,     0.77854,     0.77958,     0.78162,     0.78213,     0.78456,     0.78356,     0.78381,     0.78406,\n",
       "             0.7843,     0.78481,     0.78562,      0.7871,      0.7885,     0.78939,     0.78949,     0.78958,     0.78968,     0.78977,     0.78987,     0.78997,     0.79006,     0.79016,     0.79025,     0.79036,     0.79065,     0.79095,     0.79124,     0.79216,     0.79342,     0.79384,     0.79427,\n",
       "            0.79634,     0.79854,     0.79905,     0.79955,         0.8,     0.80046,      0.8022,     0.80276,     0.80298,     0.80319,     0.80341,     0.80362,     0.80377,     0.80393,     0.80408,     0.80423,     0.80438,     0.80454,     0.80508,       0.806,     0.80643,      0.8078,     0.80794,\n",
       "            0.80807,     0.80821,     0.80835,     0.80849,     0.80863,     0.80877,     0.80909,     0.80963,      0.8117,     0.81227,     0.81261,     0.81294,     0.81396,     0.81447,     0.81485,      0.8163,     0.81665,       0.817,     0.81736,     0.81788,      0.8184,       0.817,      0.8173,\n",
       "            0.81759,     0.81789,     0.81834,     0.81883,     0.81944,     0.82009,     0.81968,     0.81927,     0.81885,     0.81867,     0.81916,     0.81968,     0.82057,     0.82155,     0.82197,     0.82218,     0.82239,     0.82261,     0.82282,     0.82352,     0.82416,     0.82447,     0.82478,\n",
       "            0.82509,     0.82377,     0.82441,     0.82576,     0.82622,     0.82667,     0.82702,     0.82731,     0.82759,     0.82788,     0.82834,     0.82888,     0.82966,     0.83179,     0.83325,     0.83365,     0.83376,     0.83386,     0.83397,     0.83408,     0.83419,      0.8343,      0.8344,\n",
       "            0.83451,     0.83462,     0.83501,     0.83602,     0.83704,     0.83726,     0.83748,     0.83769,     0.83791,     0.83824,     0.83917,     0.83937,     0.83951,     0.83965,     0.83979,     0.83993,     0.84007,     0.84021,     0.84035,     0.84071,     0.84114,     0.84155,     0.84175,\n",
       "            0.84196,     0.84216,     0.84237,     0.84257,     0.84309,     0.84391,     0.84447,     0.84501,     0.84534,     0.84567,       0.846,     0.84698,     0.84782,     0.84846,     0.84865,     0.84881,     0.84898,     0.84915,     0.84932,     0.84949,     0.84966,     0.85098,     0.85151,\n",
       "            0.85203,     0.85235,     0.85268,       0.853,     0.85341,     0.85395,      0.8543,     0.85402,     0.85374,     0.85345,     0.85317,     0.85289,     0.85299,     0.85334,     0.85369,      0.8541,      0.8548,     0.85542,     0.85597,     0.85646,     0.85684,     0.85721,     0.85765,\n",
       "            0.85847,     0.85956,     0.86108,     0.86122,     0.86129,     0.86135,     0.86142,     0.86149,     0.86156,     0.86163,      0.8617,     0.86177,     0.86184,     0.86191,     0.86197,     0.86204,     0.86211,     0.86218,     0.86225,     0.86232,     0.86242,     0.86256,      0.8627,\n",
       "            0.86284,     0.86298,     0.86313,     0.86327,     0.86341,     0.86355,     0.86205,     0.86225,     0.86245,     0.86264,     0.86284,     0.86304,     0.86304,     0.86249,     0.86194,     0.86168,     0.86196,     0.86223,     0.86251,     0.86279,     0.86415,     0.86428,     0.86441,\n",
       "            0.86455,     0.86468,     0.86481,     0.86494,     0.86508,     0.86521,     0.86612,     0.86654,     0.86662,     0.86671,     0.86679,     0.86687,     0.86696,     0.86704,     0.86713,     0.86721,      0.8673,     0.86738,     0.86746,     0.86755,     0.86763,     0.86773,     0.86796,\n",
       "            0.86819,     0.86842,     0.86865,     0.86888,     0.86852,     0.86791,     0.86733,     0.86741,     0.86749,     0.86757,     0.86764,     0.86772,      0.8678,     0.86787,     0.86795,     0.86803,     0.86811,     0.86818,     0.86826,     0.86834,     0.86841,     0.86849,     0.86857,\n",
       "            0.86889,     0.86923,     0.86957,     0.86958,     0.86875,     0.86824,     0.86838,     0.86852,     0.86865,     0.86879,     0.86893,     0.86907,     0.86921,     0.86934,     0.86957,        0.87,     0.87042,     0.87133,     0.87205,     0.87222,     0.87238,     0.87255,     0.87271,\n",
       "            0.87288,     0.87305,     0.87322,     0.87344,     0.87367,     0.87389,     0.87412,     0.87434,     0.87459,     0.87486,     0.87513,     0.87541,     0.87568,     0.87583,     0.87597,      0.8761,     0.87623,     0.87637,      0.8765,     0.87663,     0.87677,      0.8769,     0.87704,\n",
       "            0.87719,     0.87734,     0.87749,     0.87763,     0.87778,     0.87793,     0.87808,     0.87823,     0.87864,     0.87911,     0.87952,     0.87942,     0.87931,     0.87921,      0.8791,     0.87899,     0.87889,     0.87878,     0.87868,     0.87857,     0.87846,     0.87836,     0.87825,\n",
       "            0.87815,     0.87804,     0.87793,     0.87925,     0.87935,     0.87944,     0.87954,     0.87963,     0.87972,     0.87982,     0.87991,     0.88001,      0.8801,     0.88019,     0.88029,     0.88038,     0.88058,     0.88172,     0.88143,     0.88114,     0.88085,     0.88055,     0.88026,\n",
       "            0.88034,     0.88078,     0.88122,     0.88129,     0.88108,     0.88087,     0.88066,     0.88045,     0.88023,     0.88002,     0.87981,     0.87933,     0.87877,     0.87821,     0.87955,     0.87972,     0.87988,     0.88005,     0.88022,     0.88038,     0.88055,     0.88073,      0.8814,\n",
       "            0.88202,     0.88214,     0.88226,     0.88238,      0.8825,     0.88262,     0.88275,     0.88287,     0.88299,     0.88311,     0.88323,     0.88301,     0.88216,      0.8822,     0.88446,     0.88491,     0.88536,     0.88547,     0.88522,     0.88498,     0.88474,     0.88449,     0.88425,\n",
       "            0.88401,     0.88399,     0.88408,     0.88417,     0.88426,     0.88435,     0.88444,     0.88453,     0.88462,     0.88471,      0.8848,     0.88489,     0.88498,     0.88507,     0.88516,     0.88525,     0.88539,     0.88552,     0.88566,     0.88579,     0.88593,     0.88606,      0.8862,\n",
       "            0.88633,     0.88647,     0.88662,     0.88682,     0.88701,      0.8872,      0.8874,     0.88759,     0.88779,     0.88805,     0.88839,     0.88873,     0.88907,      0.8896,     0.89028,     0.89043,     0.89021,        0.89,     0.88979,     0.88957,     0.88936,     0.88915,     0.88893,\n",
       "            0.88906,     0.88927,     0.88948,     0.88969,      0.8899,     0.89011,     0.88864,     0.88884,     0.88904,     0.88923,     0.88943,     0.88962,     0.88982,     0.88981,     0.88966,     0.88952,     0.88938,     0.88923,     0.88909,     0.88895,      0.8888,     0.88866,     0.88852,\n",
       "            0.88837,     0.88823,     0.88864,      0.8891,     0.88956,     0.88977,     0.88998,      0.8902,     0.89041,     0.89062,     0.89083,      0.8881,     0.88561,     0.88526,     0.88491,     0.88457,     0.88422,     0.88405,     0.88393,     0.88381,     0.88369,     0.88357,     0.88345,\n",
       "            0.88333,     0.88321,     0.88309,     0.88297,     0.88285,     0.88273,     0.88261,     0.88249,     0.88063,     0.88046,     0.88029,     0.88012,     0.87996,     0.87979,     0.87962,     0.87945,     0.87929,     0.87912,     0.87898,     0.87887,     0.87876,     0.87865,     0.87854,\n",
       "            0.87843,     0.87831,      0.8782,     0.87809,     0.87798,     0.87787,     0.87776,     0.87765,     0.87754,     0.87743,     0.87732,      0.8799,     0.87958,     0.87926,     0.87894,     0.87861,     0.87829,     0.87546,     0.87615,     0.87589,     0.87561,     0.87534,     0.87506,\n",
       "            0.87479,     0.87451,     0.87433,     0.87418,     0.87404,      0.8739,     0.87375,     0.87361,     0.87347,     0.87332,     0.87318,     0.87304,     0.87289,     0.87275,     0.87226,     0.87136,     0.87046,     0.86956,     0.86876,     0.86804,     0.86755,     0.86865,     0.86792,\n",
       "             0.8672,     0.86469,     0.86396,     0.86295,     0.86149,     0.86096,     0.86044,     0.85991,     0.86045,     0.86114,     0.86205,     0.86232,     0.86179,     0.86127,     0.86215,     0.86285,     0.85954,      0.8583,     0.85459,     0.85344,     0.85269,     0.84997,     0.84871,\n",
       "            0.84767,     0.84672,       0.845,     0.83681,     0.83584,     0.83474,     0.83344,     0.83022,     0.82714,     0.82615,     0.82499,     0.82173,      0.8204,      0.8173,      0.8163,     0.81311,     0.81191,     0.81151,      0.8111,      0.8107,     0.81029,     0.80778,     0.80696,\n",
       "            0.80615,     0.80428,     0.80342,     0.80274,     0.80205,     0.79742,     0.79683,     0.79623,     0.79452,     0.79089,     0.78789,      0.7837,     0.77643,     0.77499,     0.77143,     0.77006,     0.76897,     0.76702,     0.76623,     0.76453,     0.76257,      0.7611,     0.75243,\n",
       "            0.74437,     0.74361,     0.74285,     0.73271,     0.72889,     0.72822,     0.72755,     0.72688,     0.72615,     0.72536,     0.72458,     0.72379,     0.72301,     0.72222,      0.7195,     0.71871,     0.71792,     0.71707,     0.71612,     0.71516,     0.71076,      0.7089,     0.70456,\n",
       "            0.70271,     0.70149,     0.69723,     0.68139,     0.67899,     0.67772,     0.67518,     0.67348,     0.67102,     0.66808,     0.66372,     0.66199,     0.65702,     0.65337,     0.65161,     0.64258,     0.63778,     0.63643,     0.63222,      0.6304,     0.63052,     0.62942,     0.62842,\n",
       "             0.6275,     0.62659,     0.62061,     0.61875,     0.61234,     0.61046,     0.60674,     0.60485,     0.60223,     0.59938,     0.59766,     0.59622,     0.58789,     0.58498,     0.57653,     0.57231,     0.57032,      0.5659,     0.56096,     0.55996,     0.55895,      0.5494,     0.54735,\n",
       "            0.53553,     0.53056,     0.52929,     0.52384,     0.51667,     0.50978,     0.50652,     0.49717,     0.49496,     0.48363,     0.48091,     0.47922,     0.47013,     0.46722,     0.46492,     0.45808,     0.44758,     0.44379,      0.4426,     0.44142,     0.43873,     0.43281,     0.42243,\n",
       "            0.42098,     0.41541,     0.40811,     0.40332,     0.39515,     0.38952,     0.38434,     0.37288,     0.36509,     0.35894,     0.35317,     0.34712,     0.33713,     0.33116,     0.32708,     0.31974,     0.31633,     0.30448,     0.30026,     0.29602,     0.29222,     0.29008,     0.28203,\n",
       "            0.27875,     0.27701,     0.27439,     0.27002,      0.2596,     0.25711,     0.25533,     0.25231,     0.24343,     0.23226,      0.2292,     0.22728,     0.22625,     0.22523,      0.2242,     0.22283,     0.21975,     0.21555,     0.21258,     0.21024,     0.20606,     0.20134,     0.19855,\n",
       "            0.19617,     0.19029,     0.18789,     0.18513,     0.18191,     0.17472,     0.16503,     0.15767,     0.14808,     0.14707,     0.14607,     0.14506,     0.14405,      0.1332,     0.13252,     0.13184,     0.13116,     0.13048,     0.12979,     0.12911,     0.12843,     0.12534,     0.12247,\n",
       "            0.12041,     0.11834,     0.11626,     0.11418,     0.10795,     0.10444,     0.09749,     0.09395,     0.09152,    0.089741,    0.087958,    0.079848,    0.070967,    0.068239,    0.059341,    0.052062,    0.032426,     0.02864,    0.023169,    0.021805,    0.020923,    0.020041,    0.019157,\n",
       "           0.018273,    0.017388,    0.015923,       0.014,    0.012073,    0.011171,    0.010866,    0.010561,    0.010256,   0.0099508,   0.0096455,   0.0093401,   0.0090347,   0.0087291,   0.0084235,   0.0081178,   0.0078119,    0.007506,      0.0072,   0.0068939,   0.0065877,   0.0062814,    0.005975,\n",
       "                  0,           0,           0,           0,           0,           0,           0,           0,           0,           0,           0,           0,           0,           0,           0,           0,           0,           0,           0,           0,           0,           0,           0,\n",
       "                  0,           0,           0,           0,           0,           0,           0,           0,           0,           0,           0,           0,           0,           0,           0,           0,           0,           0,           0,           0,           0,           0,           0,\n",
       "                  0,           0,           0,           0,           0,           0,           0,           0,           0,           0,           0]]), 'Confidence', 'F1'], [array([          0,    0.001001,    0.002002,    0.003003,    0.004004,    0.005005,    0.006006,    0.007007,    0.008008,    0.009009,     0.01001,    0.011011,    0.012012,    0.013013,    0.014014,    0.015015,    0.016016,    0.017017,    0.018018,    0.019019,     0.02002,    0.021021,    0.022022,    0.023023,\n",
       "          0.024024,    0.025025,    0.026026,    0.027027,    0.028028,    0.029029,     0.03003,    0.031031,    0.032032,    0.033033,    0.034034,    0.035035,    0.036036,    0.037037,    0.038038,    0.039039,     0.04004,    0.041041,    0.042042,    0.043043,    0.044044,    0.045045,    0.046046,    0.047047,\n",
       "          0.048048,    0.049049,     0.05005,    0.051051,    0.052052,    0.053053,    0.054054,    0.055055,    0.056056,    0.057057,    0.058058,    0.059059,     0.06006,    0.061061,    0.062062,    0.063063,    0.064064,    0.065065,    0.066066,    0.067067,    0.068068,    0.069069,     0.07007,    0.071071,\n",
       "          0.072072,    0.073073,    0.074074,    0.075075,    0.076076,    0.077077,    0.078078,    0.079079,     0.08008,    0.081081,    0.082082,    0.083083,    0.084084,    0.085085,    0.086086,    0.087087,    0.088088,    0.089089,     0.09009,    0.091091,    0.092092,    0.093093,    0.094094,    0.095095,\n",
       "          0.096096,    0.097097,    0.098098,    0.099099,      0.1001,      0.1011,      0.1021,      0.1031,      0.1041,     0.10511,     0.10611,     0.10711,     0.10811,     0.10911,     0.11011,     0.11111,     0.11211,     0.11311,     0.11411,     0.11512,     0.11612,     0.11712,     0.11812,     0.11912,\n",
       "           0.12012,     0.12112,     0.12212,     0.12312,     0.12412,     0.12513,     0.12613,     0.12713,     0.12813,     0.12913,     0.13013,     0.13113,     0.13213,     0.13313,     0.13413,     0.13514,     0.13614,     0.13714,     0.13814,     0.13914,     0.14014,     0.14114,     0.14214,     0.14314,\n",
       "           0.14414,     0.14515,     0.14615,     0.14715,     0.14815,     0.14915,     0.15015,     0.15115,     0.15215,     0.15315,     0.15415,     0.15516,     0.15616,     0.15716,     0.15816,     0.15916,     0.16016,     0.16116,     0.16216,     0.16316,     0.16416,     0.16517,     0.16617,     0.16717,\n",
       "           0.16817,     0.16917,     0.17017,     0.17117,     0.17217,     0.17317,     0.17417,     0.17518,     0.17618,     0.17718,     0.17818,     0.17918,     0.18018,     0.18118,     0.18218,     0.18318,     0.18418,     0.18519,     0.18619,     0.18719,     0.18819,     0.18919,     0.19019,     0.19119,\n",
       "           0.19219,     0.19319,     0.19419,      0.1952,      0.1962,      0.1972,      0.1982,      0.1992,      0.2002,      0.2012,      0.2022,      0.2032,      0.2042,     0.20521,     0.20621,     0.20721,     0.20821,     0.20921,     0.21021,     0.21121,     0.21221,     0.21321,     0.21421,     0.21522,\n",
       "           0.21622,     0.21722,     0.21822,     0.21922,     0.22022,     0.22122,     0.22222,     0.22322,     0.22422,     0.22523,     0.22623,     0.22723,     0.22823,     0.22923,     0.23023,     0.23123,     0.23223,     0.23323,     0.23423,     0.23524,     0.23624,     0.23724,     0.23824,     0.23924,\n",
       "           0.24024,     0.24124,     0.24224,     0.24324,     0.24424,     0.24525,     0.24625,     0.24725,     0.24825,     0.24925,     0.25025,     0.25125,     0.25225,     0.25325,     0.25425,     0.25526,     0.25626,     0.25726,     0.25826,     0.25926,     0.26026,     0.26126,     0.26226,     0.26326,\n",
       "           0.26426,     0.26527,     0.26627,     0.26727,     0.26827,     0.26927,     0.27027,     0.27127,     0.27227,     0.27327,     0.27427,     0.27528,     0.27628,     0.27728,     0.27828,     0.27928,     0.28028,     0.28128,     0.28228,     0.28328,     0.28428,     0.28529,     0.28629,     0.28729,\n",
       "           0.28829,     0.28929,     0.29029,     0.29129,     0.29229,     0.29329,     0.29429,      0.2953,      0.2963,      0.2973,      0.2983,      0.2993,      0.3003,      0.3013,      0.3023,      0.3033,      0.3043,     0.30531,     0.30631,     0.30731,     0.30831,     0.30931,     0.31031,     0.31131,\n",
       "           0.31231,     0.31331,     0.31431,     0.31532,     0.31632,     0.31732,     0.31832,     0.31932,     0.32032,     0.32132,     0.32232,     0.32332,     0.32432,     0.32533,     0.32633,     0.32733,     0.32833,     0.32933,     0.33033,     0.33133,     0.33233,     0.33333,     0.33433,     0.33534,\n",
       "           0.33634,     0.33734,     0.33834,     0.33934,     0.34034,     0.34134,     0.34234,     0.34334,     0.34434,     0.34535,     0.34635,     0.34735,     0.34835,     0.34935,     0.35035,     0.35135,     0.35235,     0.35335,     0.35435,     0.35536,     0.35636,     0.35736,     0.35836,     0.35936,\n",
       "           0.36036,     0.36136,     0.36236,     0.36336,     0.36436,     0.36537,     0.36637,     0.36737,     0.36837,     0.36937,     0.37037,     0.37137,     0.37237,     0.37337,     0.37437,     0.37538,     0.37638,     0.37738,     0.37838,     0.37938,     0.38038,     0.38138,     0.38238,     0.38338,\n",
       "           0.38438,     0.38539,     0.38639,     0.38739,     0.38839,     0.38939,     0.39039,     0.39139,     0.39239,     0.39339,     0.39439,      0.3954,      0.3964,      0.3974,      0.3984,      0.3994,      0.4004,      0.4014,      0.4024,      0.4034,      0.4044,     0.40541,     0.40641,     0.40741,\n",
       "           0.40841,     0.40941,     0.41041,     0.41141,     0.41241,     0.41341,     0.41441,     0.41542,     0.41642,     0.41742,     0.41842,     0.41942,     0.42042,     0.42142,     0.42242,     0.42342,     0.42442,     0.42543,     0.42643,     0.42743,     0.42843,     0.42943,     0.43043,     0.43143,\n",
       "           0.43243,     0.43343,     0.43443,     0.43544,     0.43644,     0.43744,     0.43844,     0.43944,     0.44044,     0.44144,     0.44244,     0.44344,     0.44444,     0.44545,     0.44645,     0.44745,     0.44845,     0.44945,     0.45045,     0.45145,     0.45245,     0.45345,     0.45445,     0.45546,\n",
       "           0.45646,     0.45746,     0.45846,     0.45946,     0.46046,     0.46146,     0.46246,     0.46346,     0.46446,     0.46547,     0.46647,     0.46747,     0.46847,     0.46947,     0.47047,     0.47147,     0.47247,     0.47347,     0.47447,     0.47548,     0.47648,     0.47748,     0.47848,     0.47948,\n",
       "           0.48048,     0.48148,     0.48248,     0.48348,     0.48448,     0.48549,     0.48649,     0.48749,     0.48849,     0.48949,     0.49049,     0.49149,     0.49249,     0.49349,     0.49449,      0.4955,      0.4965,      0.4975,      0.4985,      0.4995,      0.5005,      0.5015,      0.5025,      0.5035,\n",
       "            0.5045,     0.50551,     0.50651,     0.50751,     0.50851,     0.50951,     0.51051,     0.51151,     0.51251,     0.51351,     0.51451,     0.51552,     0.51652,     0.51752,     0.51852,     0.51952,     0.52052,     0.52152,     0.52252,     0.52352,     0.52452,     0.52553,     0.52653,     0.52753,\n",
       "           0.52853,     0.52953,     0.53053,     0.53153,     0.53253,     0.53353,     0.53453,     0.53554,     0.53654,     0.53754,     0.53854,     0.53954,     0.54054,     0.54154,     0.54254,     0.54354,     0.54454,     0.54555,     0.54655,     0.54755,     0.54855,     0.54955,     0.55055,     0.55155,\n",
       "           0.55255,     0.55355,     0.55455,     0.55556,     0.55656,     0.55756,     0.55856,     0.55956,     0.56056,     0.56156,     0.56256,     0.56356,     0.56456,     0.56557,     0.56657,     0.56757,     0.56857,     0.56957,     0.57057,     0.57157,     0.57257,     0.57357,     0.57457,     0.57558,\n",
       "           0.57658,     0.57758,     0.57858,     0.57958,     0.58058,     0.58158,     0.58258,     0.58358,     0.58458,     0.58559,     0.58659,     0.58759,     0.58859,     0.58959,     0.59059,     0.59159,     0.59259,     0.59359,     0.59459,      0.5956,      0.5966,      0.5976,      0.5986,      0.5996,\n",
       "            0.6006,      0.6016,      0.6026,      0.6036,      0.6046,     0.60561,     0.60661,     0.60761,     0.60861,     0.60961,     0.61061,     0.61161,     0.61261,     0.61361,     0.61461,     0.61562,     0.61662,     0.61762,     0.61862,     0.61962,     0.62062,     0.62162,     0.62262,     0.62362,\n",
       "           0.62462,     0.62563,     0.62663,     0.62763,     0.62863,     0.62963,     0.63063,     0.63163,     0.63263,     0.63363,     0.63463,     0.63564,     0.63664,     0.63764,     0.63864,     0.63964,     0.64064,     0.64164,     0.64264,     0.64364,     0.64464,     0.64565,     0.64665,     0.64765,\n",
       "           0.64865,     0.64965,     0.65065,     0.65165,     0.65265,     0.65365,     0.65465,     0.65566,     0.65666,     0.65766,     0.65866,     0.65966,     0.66066,     0.66166,     0.66266,     0.66366,     0.66466,     0.66567,     0.66667,     0.66767,     0.66867,     0.66967,     0.67067,     0.67167,\n",
       "           0.67267,     0.67367,     0.67467,     0.67568,     0.67668,     0.67768,     0.67868,     0.67968,     0.68068,     0.68168,     0.68268,     0.68368,     0.68468,     0.68569,     0.68669,     0.68769,     0.68869,     0.68969,     0.69069,     0.69169,     0.69269,     0.69369,     0.69469,      0.6957,\n",
       "            0.6967,      0.6977,      0.6987,      0.6997,      0.7007,      0.7017,      0.7027,      0.7037,      0.7047,     0.70571,     0.70671,     0.70771,     0.70871,     0.70971,     0.71071,     0.71171,     0.71271,     0.71371,     0.71471,     0.71572,     0.71672,     0.71772,     0.71872,     0.71972,\n",
       "           0.72072,     0.72172,     0.72272,     0.72372,     0.72472,     0.72573,     0.72673,     0.72773,     0.72873,     0.72973,     0.73073,     0.73173,     0.73273,     0.73373,     0.73473,     0.73574,     0.73674,     0.73774,     0.73874,     0.73974,     0.74074,     0.74174,     0.74274,     0.74374,\n",
       "           0.74474,     0.74575,     0.74675,     0.74775,     0.74875,     0.74975,     0.75075,     0.75175,     0.75275,     0.75375,     0.75475,     0.75576,     0.75676,     0.75776,     0.75876,     0.75976,     0.76076,     0.76176,     0.76276,     0.76376,     0.76476,     0.76577,     0.76677,     0.76777,\n",
       "           0.76877,     0.76977,     0.77077,     0.77177,     0.77277,     0.77377,     0.77477,     0.77578,     0.77678,     0.77778,     0.77878,     0.77978,     0.78078,     0.78178,     0.78278,     0.78378,     0.78478,     0.78579,     0.78679,     0.78779,     0.78879,     0.78979,     0.79079,     0.79179,\n",
       "           0.79279,     0.79379,     0.79479,      0.7958,      0.7968,      0.7978,      0.7988,      0.7998,      0.8008,      0.8018,      0.8028,      0.8038,      0.8048,     0.80581,     0.80681,     0.80781,     0.80881,     0.80981,     0.81081,     0.81181,     0.81281,     0.81381,     0.81481,     0.81582,\n",
       "           0.81682,     0.81782,     0.81882,     0.81982,     0.82082,     0.82182,     0.82282,     0.82382,     0.82482,     0.82583,     0.82683,     0.82783,     0.82883,     0.82983,     0.83083,     0.83183,     0.83283,     0.83383,     0.83483,     0.83584,     0.83684,     0.83784,     0.83884,     0.83984,\n",
       "           0.84084,     0.84184,     0.84284,     0.84384,     0.84484,     0.84585,     0.84685,     0.84785,     0.84885,     0.84985,     0.85085,     0.85185,     0.85285,     0.85385,     0.85485,     0.85586,     0.85686,     0.85786,     0.85886,     0.85986,     0.86086,     0.86186,     0.86286,     0.86386,\n",
       "           0.86486,     0.86587,     0.86687,     0.86787,     0.86887,     0.86987,     0.87087,     0.87187,     0.87287,     0.87387,     0.87487,     0.87588,     0.87688,     0.87788,     0.87888,     0.87988,     0.88088,     0.88188,     0.88288,     0.88388,     0.88488,     0.88589,     0.88689,     0.88789,\n",
       "           0.88889,     0.88989,     0.89089,     0.89189,     0.89289,     0.89389,     0.89489,      0.8959,      0.8969,      0.8979,      0.8989,      0.8999,      0.9009,      0.9019,      0.9029,      0.9039,      0.9049,     0.90591,     0.90691,     0.90791,     0.90891,     0.90991,     0.91091,     0.91191,\n",
       "           0.91291,     0.91391,     0.91491,     0.91592,     0.91692,     0.91792,     0.91892,     0.91992,     0.92092,     0.92192,     0.92292,     0.92392,     0.92492,     0.92593,     0.92693,     0.92793,     0.92893,     0.92993,     0.93093,     0.93193,     0.93293,     0.93393,     0.93493,     0.93594,\n",
       "           0.93694,     0.93794,     0.93894,     0.93994,     0.94094,     0.94194,     0.94294,     0.94394,     0.94494,     0.94595,     0.94695,     0.94795,     0.94895,     0.94995,     0.95095,     0.95195,     0.95295,     0.95395,     0.95495,     0.95596,     0.95696,     0.95796,     0.95896,     0.95996,\n",
       "           0.96096,     0.96196,     0.96296,     0.96396,     0.96496,     0.96597,     0.96697,     0.96797,     0.96897,     0.96997,     0.97097,     0.97197,     0.97297,     0.97397,     0.97497,     0.97598,     0.97698,     0.97798,     0.97898,     0.97998,     0.98098,     0.98198,     0.98298,     0.98398,\n",
       "           0.98498,     0.98599,     0.98699,     0.98799,     0.98899,     0.98999,     0.99099,     0.99199,     0.99299,     0.99399,     0.99499,       0.996,       0.997,       0.998,       0.999,           1]), array([[    0.11661,     0.11661,     0.17352,     0.21692,     0.24903,     0.27461,     0.29504,      0.3171,     0.33645,     0.35367,     0.37055,     0.38221,     0.39731,     0.40623,     0.41858,     0.43204,     0.44257,     0.45139,     0.46438,     0.47235,     0.47925,     0.48512,     0.49297,\n",
       "            0.49905,     0.50487,     0.51014,     0.51634,     0.52098,     0.52878,     0.53418,      0.5379,     0.54331,     0.55286,     0.55646,     0.56154,      0.5637,     0.56678,     0.56931,     0.57236,     0.57497,     0.58015,     0.58394,     0.58827,     0.58938,     0.59562,     0.60179,\n",
       "            0.60254,     0.60403,     0.60505,     0.60633,     0.60618,     0.60883,     0.61106,     0.61313,     0.61537,     0.62219,     0.62659,     0.62923,     0.63195,     0.63786,     0.64072,     0.64145,     0.64237,     0.64366,     0.64449,     0.64901,     0.64948,     0.65001,     0.65066,\n",
       "            0.65292,     0.65577,     0.65862,     0.66391,      0.6669,     0.67082,     0.67221,     0.67283,      0.6755,     0.67988,     0.68162,      0.6842,     0.68526,     0.68606,     0.68801,     0.68932,     0.69096,     0.69416,      0.6967,     0.70057,     0.70075,     0.70115,     0.70154,\n",
       "            0.70193,     0.70275,     0.70406,     0.70642,     0.70869,     0.71013,     0.71028,     0.71044,     0.71059,     0.71075,      0.7109,     0.71106,     0.71121,     0.71137,     0.71152,      0.7117,     0.71217,     0.71265,     0.71313,     0.71462,     0.71667,     0.71736,     0.71806,\n",
       "            0.72146,     0.72507,     0.72591,     0.72674,     0.72749,     0.72825,     0.73114,     0.73207,     0.73243,     0.73278,     0.73314,      0.7335,     0.73375,     0.73401,     0.73426,     0.73451,     0.73477,     0.73502,     0.73593,     0.73748,     0.73819,     0.74048,     0.74072,\n",
       "            0.74095,     0.74118,     0.74142,     0.74165,     0.74189,     0.74212,     0.74267,     0.74358,     0.74707,     0.74804,     0.74861,     0.74918,     0.75092,     0.75178,     0.75243,      0.7549,      0.7555,     0.75611,     0.75672,     0.75761,      0.7585,     0.75818,     0.75869,\n",
       "             0.7592,     0.75971,     0.76049,     0.76134,      0.7624,     0.76354,     0.76339,     0.76323,     0.76308,     0.76318,     0.76404,     0.76493,     0.76649,      0.7682,     0.76893,     0.76931,     0.76968,     0.77005,     0.77043,     0.77165,     0.77278,     0.77333,     0.77388,\n",
       "            0.77443,     0.77429,     0.77543,     0.77782,     0.77863,     0.77944,     0.78006,     0.78057,     0.78107,     0.78158,     0.78241,     0.78337,     0.78476,     0.78859,     0.79122,     0.79194,     0.79213,     0.79233,     0.79252,     0.79271,     0.79291,      0.7931,      0.7933,\n",
       "            0.79349,     0.79369,      0.7944,     0.79622,     0.79808,     0.79848,     0.79887,     0.79927,     0.79966,     0.80026,     0.80197,     0.80232,     0.80258,     0.80283,     0.80309,     0.80335,      0.8036,     0.80386,     0.80412,     0.80478,     0.80556,     0.80631,     0.80669,\n",
       "            0.80707,     0.80744,     0.80782,      0.8082,     0.80914,     0.81066,     0.81169,      0.8127,     0.81331,     0.81391,     0.81452,     0.81635,     0.81791,      0.8191,     0.81945,     0.81976,     0.82008,     0.82039,     0.82071,     0.82102,     0.82135,     0.82381,     0.82481,\n",
       "            0.82579,     0.82639,       0.827,     0.82761,     0.82838,      0.8294,     0.83017,     0.83009,     0.83001,     0.82992,     0.82984,     0.82976,     0.83014,     0.83079,     0.83145,     0.83225,     0.83357,     0.83475,     0.83579,     0.83673,     0.83745,     0.83817,       0.839,\n",
       "            0.84057,     0.84267,      0.8456,     0.84586,     0.84599,     0.84612,     0.84626,     0.84639,     0.84652,     0.84666,     0.84679,     0.84692,     0.84705,     0.84719,     0.84732,     0.84745,     0.84759,     0.84772,     0.84785,     0.84799,     0.84818,     0.84845,     0.84873,\n",
       "              0.849,     0.84928,     0.84955,     0.84983,      0.8501,     0.85038,     0.85014,     0.85053,     0.85092,     0.85131,      0.8517,     0.85209,     0.85233,     0.85219,     0.85205,     0.85215,     0.85269,     0.85323,     0.85378,     0.85432,     0.85699,     0.85725,     0.85751,\n",
       "            0.85777,     0.85803,     0.85829,     0.85855,     0.85881,     0.85907,     0.86087,      0.8617,     0.86187,     0.86203,      0.8622,     0.86237,     0.86254,      0.8627,     0.86287,     0.86304,      0.8632,     0.86337,     0.86354,      0.8637,     0.86387,     0.86406,     0.86452,\n",
       "            0.86497,     0.86543,     0.86589,     0.86635,     0.86638,     0.86623,      0.8661,     0.86626,     0.86641,     0.86656,     0.86672,     0.86687,     0.86702,     0.86718,     0.86733,     0.86749,     0.86764,     0.86779,     0.86795,      0.8681,     0.86825,     0.86841,     0.86856,\n",
       "            0.86921,     0.86989,     0.87057,     0.87101,     0.87082,     0.87078,     0.87106,     0.87134,     0.87161,     0.87189,     0.87217,     0.87245,     0.87273,       0.873,     0.87346,     0.87432,     0.87518,     0.87702,     0.87848,     0.87882,     0.87915,     0.87949,     0.87983,\n",
       "            0.88017,      0.8805,     0.88085,     0.88131,     0.88177,     0.88223,     0.88268,     0.88314,     0.88365,      0.8842,     0.88476,     0.88532,     0.88588,     0.88619,     0.88647,     0.88674,     0.88701,     0.88729,     0.88756,     0.88783,     0.88811,     0.88838,     0.88866,\n",
       "            0.88897,     0.88928,     0.88958,     0.88989,     0.89019,      0.8905,     0.89081,     0.89111,     0.89195,     0.89293,      0.8938,     0.89378,     0.89376,     0.89374,     0.89372,      0.8937,     0.89368,     0.89366,     0.89364,     0.89362,      0.8936,     0.89358,     0.89356,\n",
       "            0.89354,     0.89352,      0.8935,     0.89629,     0.89648,     0.89668,     0.89687,     0.89707,     0.89726,     0.89746,     0.89765,     0.89785,     0.89804,     0.89824,     0.89844,     0.89863,     0.89904,     0.90149,     0.90143,     0.90138,     0.90133,     0.90128,     0.90122,\n",
       "            0.90166,     0.90258,     0.90351,     0.90388,     0.90385,     0.90381,     0.90377,     0.90373,      0.9037,     0.90366,     0.90362,     0.90354,     0.90344,     0.90334,     0.90636,     0.90671,     0.90706,     0.90742,     0.90777,     0.90812,     0.90847,     0.90887,     0.91029,\n",
       "            0.91161,     0.91187,     0.91213,     0.91239,     0.91265,     0.91291,     0.91317,     0.91343,     0.91369,     0.91395,     0.91421,     0.91433,     0.91419,     0.91527,     0.92017,     0.92114,     0.92211,     0.92258,     0.92255,     0.92251,     0.92248,     0.92244,     0.92241,\n",
       "            0.92237,     0.92249,     0.92269,     0.92288,     0.92308,     0.92328,     0.92347,     0.92367,     0.92387,     0.92406,     0.92426,     0.92446,     0.92465,     0.92485,     0.92504,     0.92524,     0.92554,     0.92584,     0.92613,     0.92643,     0.92673,     0.92702,     0.92732,\n",
       "            0.92762,     0.92791,     0.92824,     0.92867,      0.9291,     0.92952,     0.92995,     0.93038,      0.9308,     0.93137,     0.93212,     0.93287,     0.93362,     0.93479,      0.9363,     0.93689,     0.93687,     0.93684,     0.93682,     0.93679,     0.93677,     0.93674,     0.93671,\n",
       "            0.93708,     0.93755,     0.93802,     0.93849,     0.93896,     0.93943,     0.93969,     0.94013,     0.94057,     0.94101,     0.94145,     0.94189,     0.94233,     0.94248,     0.94247,     0.94245,     0.94243,     0.94242,      0.9424,     0.94239,     0.94237,     0.94236,     0.94234,\n",
       "            0.94232,     0.94231,     0.94326,     0.94429,     0.94533,     0.94581,     0.94629,     0.94678,     0.94726,     0.94774,     0.94822,     0.94811,     0.94786,     0.94782,     0.94779,     0.94775,     0.94772,      0.9477,     0.94769,     0.94768,     0.94767,     0.94765,     0.94764,\n",
       "            0.94763,     0.94762,     0.94761,     0.94759,     0.94758,     0.94757,     0.94756,     0.94755,     0.94736,     0.94734,     0.94732,     0.94731,     0.94729,     0.94727,     0.94726,     0.94724,     0.94722,      0.9472,     0.94719,     0.94718,     0.94717,     0.94716,     0.94715,\n",
       "            0.94713,     0.94712,     0.94711,      0.9471,     0.94709,     0.94708,     0.94707,     0.94706,     0.94704,     0.94703,     0.94702,     0.95332,      0.9533,     0.95327,     0.95324,     0.95321,     0.95318,     0.95442,     0.95607,     0.95606,     0.95603,     0.95601,     0.95599,\n",
       "            0.95596,     0.95594,     0.95592,     0.95591,      0.9559,     0.95589,     0.95588,     0.95586,     0.95585,     0.95584,     0.95583,     0.95581,      0.9558,     0.95579,     0.95575,     0.95567,     0.95559,     0.95551,     0.95544,     0.95538,     0.95571,     0.95861,     0.95855,\n",
       "             0.9585,     0.95829,     0.95823,     0.95815,     0.95803,     0.95799,     0.95794,      0.9579,      0.9594,     0.96113,      0.9634,     0.96465,     0.96461,     0.96457,     0.96804,     0.96982,      0.9712,     0.97458,     0.97439,     0.97433,      0.9743,     0.97416,     0.97409,\n",
       "            0.97404,     0.97399,      0.9739,     0.97347,     0.97342,     0.97336,     0.97329,     0.97312,     0.97295,     0.97289,     0.97283,     0.97265,     0.97258,     0.97241,     0.97235,     0.97217,     0.97211,     0.97208,     0.97206,     0.97204,     0.97202,     0.97187,     0.97183,\n",
       "            0.97178,     0.97168,     0.97163,     0.97159,     0.97155,     0.97128,     0.97124,     0.97121,     0.97507,     0.97488,     0.97473,     0.97451,     0.97413,     0.97405,     0.97386,     0.97379,     0.97373,     0.97362,     0.97782,     0.97775,     0.97766,     0.97759,     0.97718,\n",
       "             0.9813,     0.98127,     0.98124,     0.98083,     0.98068,     0.98065,     0.98062,     0.98059,     0.98056,     0.98053,      0.9805,     0.98047,     0.98043,      0.9804,     0.98029,     0.98025,     0.98022,     0.98018,     0.98014,      0.9801,     0.97992,     0.97984,     0.97965,\n",
       "            0.97957,     0.97951,     0.97932,      0.9786,     0.97849,     0.97843,      0.9836,     0.98354,     0.98595,      0.9888,     0.98869,     0.98865,     0.98852,     0.98842,     0.98838,     0.98814,     0.98801,     0.98797,     0.98786,     0.98781,     0.99385,     0.99383,     0.99382,\n",
       "            0.99381,     0.99379,     0.99371,     0.99368,     0.99359,     0.99356,      0.9935,     0.99347,     0.99343,     0.99339,     0.99336,     0.99334,      0.9932,     0.99316,     0.99301,     0.99294,     0.99291,     0.99283,     0.99274,     0.99273,     0.99271,     0.99253,      0.9925,\n",
       "            0.99227,     0.99217,     0.99215,     0.99204,     0.99793,           1,           1,           1,           1,           1,           1,           1,           1,           1,           1,           1,           1,           1,           1,           1,           1,           1,           1,\n",
       "                  1,           1,           1,           1,           1,           1,           1,           1,           1,           1,           1,           1,           1,           1,           1,           1,           1,           1,           1,           1,           1,           1,           1,\n",
       "                  1,           1,           1,           1,           1,           1,           1,           1,           1,           1,           1,           1,           1,           1,           1,           1,           1,           1,           1,           1,           1,           1,           1,\n",
       "                  1,           1,           1,           1,           1,           1,           1,           1,           1,           1,           1,           1,           1,           1,           1,           1,           1,           1,           1,           1,           1,           1,           1,\n",
       "                  1,           1,           1,           1,           1,           1,           1,           1,           1,           1,           1,           1,           1,           1,           1,           1,           1,           1,           1,           1,           1,           1,           1,\n",
       "                  1,           1,           1,           1,           1,           1,           1,           1,           1,           1,           1,           1,           1,           1,           1,           1,           1,           1,           1,           1,           1,           1,           1,\n",
       "                  1,           1,           1,           1,           1,           1,           1,           1,           1,           1,           1,           1,           1,           1,           1,           1,           1,           1,           1,           1,           1,           1,           1,\n",
       "                  1,           1,           1,           1,           1,           1,           1,           1,           1,           1,           1,           1,           1,           1,           1,           1,           1,           1,           1,           1,           1,           1,           1,\n",
       "                  1,           1,           1,           1,           1,           1,           1,           1,           1,           1,           1]]), 'Confidence', 'Precision'], [array([          0,    0.001001,    0.002002,    0.003003,    0.004004,    0.005005,    0.006006,    0.007007,    0.008008,    0.009009,     0.01001,    0.011011,    0.012012,    0.013013,    0.014014,    0.015015,    0.016016,    0.017017,    0.018018,    0.019019,     0.02002,    0.021021,    0.022022,    0.023023,\n",
       "          0.024024,    0.025025,    0.026026,    0.027027,    0.028028,    0.029029,     0.03003,    0.031031,    0.032032,    0.033033,    0.034034,    0.035035,    0.036036,    0.037037,    0.038038,    0.039039,     0.04004,    0.041041,    0.042042,    0.043043,    0.044044,    0.045045,    0.046046,    0.047047,\n",
       "          0.048048,    0.049049,     0.05005,    0.051051,    0.052052,    0.053053,    0.054054,    0.055055,    0.056056,    0.057057,    0.058058,    0.059059,     0.06006,    0.061061,    0.062062,    0.063063,    0.064064,    0.065065,    0.066066,    0.067067,    0.068068,    0.069069,     0.07007,    0.071071,\n",
       "          0.072072,    0.073073,    0.074074,    0.075075,    0.076076,    0.077077,    0.078078,    0.079079,     0.08008,    0.081081,    0.082082,    0.083083,    0.084084,    0.085085,    0.086086,    0.087087,    0.088088,    0.089089,     0.09009,    0.091091,    0.092092,    0.093093,    0.094094,    0.095095,\n",
       "          0.096096,    0.097097,    0.098098,    0.099099,      0.1001,      0.1011,      0.1021,      0.1031,      0.1041,     0.10511,     0.10611,     0.10711,     0.10811,     0.10911,     0.11011,     0.11111,     0.11211,     0.11311,     0.11411,     0.11512,     0.11612,     0.11712,     0.11812,     0.11912,\n",
       "           0.12012,     0.12112,     0.12212,     0.12312,     0.12412,     0.12513,     0.12613,     0.12713,     0.12813,     0.12913,     0.13013,     0.13113,     0.13213,     0.13313,     0.13413,     0.13514,     0.13614,     0.13714,     0.13814,     0.13914,     0.14014,     0.14114,     0.14214,     0.14314,\n",
       "           0.14414,     0.14515,     0.14615,     0.14715,     0.14815,     0.14915,     0.15015,     0.15115,     0.15215,     0.15315,     0.15415,     0.15516,     0.15616,     0.15716,     0.15816,     0.15916,     0.16016,     0.16116,     0.16216,     0.16316,     0.16416,     0.16517,     0.16617,     0.16717,\n",
       "           0.16817,     0.16917,     0.17017,     0.17117,     0.17217,     0.17317,     0.17417,     0.17518,     0.17618,     0.17718,     0.17818,     0.17918,     0.18018,     0.18118,     0.18218,     0.18318,     0.18418,     0.18519,     0.18619,     0.18719,     0.18819,     0.18919,     0.19019,     0.19119,\n",
       "           0.19219,     0.19319,     0.19419,      0.1952,      0.1962,      0.1972,      0.1982,      0.1992,      0.2002,      0.2012,      0.2022,      0.2032,      0.2042,     0.20521,     0.20621,     0.20721,     0.20821,     0.20921,     0.21021,     0.21121,     0.21221,     0.21321,     0.21421,     0.21522,\n",
       "           0.21622,     0.21722,     0.21822,     0.21922,     0.22022,     0.22122,     0.22222,     0.22322,     0.22422,     0.22523,     0.22623,     0.22723,     0.22823,     0.22923,     0.23023,     0.23123,     0.23223,     0.23323,     0.23423,     0.23524,     0.23624,     0.23724,     0.23824,     0.23924,\n",
       "           0.24024,     0.24124,     0.24224,     0.24324,     0.24424,     0.24525,     0.24625,     0.24725,     0.24825,     0.24925,     0.25025,     0.25125,     0.25225,     0.25325,     0.25425,     0.25526,     0.25626,     0.25726,     0.25826,     0.25926,     0.26026,     0.26126,     0.26226,     0.26326,\n",
       "           0.26426,     0.26527,     0.26627,     0.26727,     0.26827,     0.26927,     0.27027,     0.27127,     0.27227,     0.27327,     0.27427,     0.27528,     0.27628,     0.27728,     0.27828,     0.27928,     0.28028,     0.28128,     0.28228,     0.28328,     0.28428,     0.28529,     0.28629,     0.28729,\n",
       "           0.28829,     0.28929,     0.29029,     0.29129,     0.29229,     0.29329,     0.29429,      0.2953,      0.2963,      0.2973,      0.2983,      0.2993,      0.3003,      0.3013,      0.3023,      0.3033,      0.3043,     0.30531,     0.30631,     0.30731,     0.30831,     0.30931,     0.31031,     0.31131,\n",
       "           0.31231,     0.31331,     0.31431,     0.31532,     0.31632,     0.31732,     0.31832,     0.31932,     0.32032,     0.32132,     0.32232,     0.32332,     0.32432,     0.32533,     0.32633,     0.32733,     0.32833,     0.32933,     0.33033,     0.33133,     0.33233,     0.33333,     0.33433,     0.33534,\n",
       "           0.33634,     0.33734,     0.33834,     0.33934,     0.34034,     0.34134,     0.34234,     0.34334,     0.34434,     0.34535,     0.34635,     0.34735,     0.34835,     0.34935,     0.35035,     0.35135,     0.35235,     0.35335,     0.35435,     0.35536,     0.35636,     0.35736,     0.35836,     0.35936,\n",
       "           0.36036,     0.36136,     0.36236,     0.36336,     0.36436,     0.36537,     0.36637,     0.36737,     0.36837,     0.36937,     0.37037,     0.37137,     0.37237,     0.37337,     0.37437,     0.37538,     0.37638,     0.37738,     0.37838,     0.37938,     0.38038,     0.38138,     0.38238,     0.38338,\n",
       "           0.38438,     0.38539,     0.38639,     0.38739,     0.38839,     0.38939,     0.39039,     0.39139,     0.39239,     0.39339,     0.39439,      0.3954,      0.3964,      0.3974,      0.3984,      0.3994,      0.4004,      0.4014,      0.4024,      0.4034,      0.4044,     0.40541,     0.40641,     0.40741,\n",
       "           0.40841,     0.40941,     0.41041,     0.41141,     0.41241,     0.41341,     0.41441,     0.41542,     0.41642,     0.41742,     0.41842,     0.41942,     0.42042,     0.42142,     0.42242,     0.42342,     0.42442,     0.42543,     0.42643,     0.42743,     0.42843,     0.42943,     0.43043,     0.43143,\n",
       "           0.43243,     0.43343,     0.43443,     0.43544,     0.43644,     0.43744,     0.43844,     0.43944,     0.44044,     0.44144,     0.44244,     0.44344,     0.44444,     0.44545,     0.44645,     0.44745,     0.44845,     0.44945,     0.45045,     0.45145,     0.45245,     0.45345,     0.45445,     0.45546,\n",
       "           0.45646,     0.45746,     0.45846,     0.45946,     0.46046,     0.46146,     0.46246,     0.46346,     0.46446,     0.46547,     0.46647,     0.46747,     0.46847,     0.46947,     0.47047,     0.47147,     0.47247,     0.47347,     0.47447,     0.47548,     0.47648,     0.47748,     0.47848,     0.47948,\n",
       "           0.48048,     0.48148,     0.48248,     0.48348,     0.48448,     0.48549,     0.48649,     0.48749,     0.48849,     0.48949,     0.49049,     0.49149,     0.49249,     0.49349,     0.49449,      0.4955,      0.4965,      0.4975,      0.4985,      0.4995,      0.5005,      0.5015,      0.5025,      0.5035,\n",
       "            0.5045,     0.50551,     0.50651,     0.50751,     0.50851,     0.50951,     0.51051,     0.51151,     0.51251,     0.51351,     0.51451,     0.51552,     0.51652,     0.51752,     0.51852,     0.51952,     0.52052,     0.52152,     0.52252,     0.52352,     0.52452,     0.52553,     0.52653,     0.52753,\n",
       "           0.52853,     0.52953,     0.53053,     0.53153,     0.53253,     0.53353,     0.53453,     0.53554,     0.53654,     0.53754,     0.53854,     0.53954,     0.54054,     0.54154,     0.54254,     0.54354,     0.54454,     0.54555,     0.54655,     0.54755,     0.54855,     0.54955,     0.55055,     0.55155,\n",
       "           0.55255,     0.55355,     0.55455,     0.55556,     0.55656,     0.55756,     0.55856,     0.55956,     0.56056,     0.56156,     0.56256,     0.56356,     0.56456,     0.56557,     0.56657,     0.56757,     0.56857,     0.56957,     0.57057,     0.57157,     0.57257,     0.57357,     0.57457,     0.57558,\n",
       "           0.57658,     0.57758,     0.57858,     0.57958,     0.58058,     0.58158,     0.58258,     0.58358,     0.58458,     0.58559,     0.58659,     0.58759,     0.58859,     0.58959,     0.59059,     0.59159,     0.59259,     0.59359,     0.59459,      0.5956,      0.5966,      0.5976,      0.5986,      0.5996,\n",
       "            0.6006,      0.6016,      0.6026,      0.6036,      0.6046,     0.60561,     0.60661,     0.60761,     0.60861,     0.60961,     0.61061,     0.61161,     0.61261,     0.61361,     0.61461,     0.61562,     0.61662,     0.61762,     0.61862,     0.61962,     0.62062,     0.62162,     0.62262,     0.62362,\n",
       "           0.62462,     0.62563,     0.62663,     0.62763,     0.62863,     0.62963,     0.63063,     0.63163,     0.63263,     0.63363,     0.63463,     0.63564,     0.63664,     0.63764,     0.63864,     0.63964,     0.64064,     0.64164,     0.64264,     0.64364,     0.64464,     0.64565,     0.64665,     0.64765,\n",
       "           0.64865,     0.64965,     0.65065,     0.65165,     0.65265,     0.65365,     0.65465,     0.65566,     0.65666,     0.65766,     0.65866,     0.65966,     0.66066,     0.66166,     0.66266,     0.66366,     0.66466,     0.66567,     0.66667,     0.66767,     0.66867,     0.66967,     0.67067,     0.67167,\n",
       "           0.67267,     0.67367,     0.67467,     0.67568,     0.67668,     0.67768,     0.67868,     0.67968,     0.68068,     0.68168,     0.68268,     0.68368,     0.68468,     0.68569,     0.68669,     0.68769,     0.68869,     0.68969,     0.69069,     0.69169,     0.69269,     0.69369,     0.69469,      0.6957,\n",
       "            0.6967,      0.6977,      0.6987,      0.6997,      0.7007,      0.7017,      0.7027,      0.7037,      0.7047,     0.70571,     0.70671,     0.70771,     0.70871,     0.70971,     0.71071,     0.71171,     0.71271,     0.71371,     0.71471,     0.71572,     0.71672,     0.71772,     0.71872,     0.71972,\n",
       "           0.72072,     0.72172,     0.72272,     0.72372,     0.72472,     0.72573,     0.72673,     0.72773,     0.72873,     0.72973,     0.73073,     0.73173,     0.73273,     0.73373,     0.73473,     0.73574,     0.73674,     0.73774,     0.73874,     0.73974,     0.74074,     0.74174,     0.74274,     0.74374,\n",
       "           0.74474,     0.74575,     0.74675,     0.74775,     0.74875,     0.74975,     0.75075,     0.75175,     0.75275,     0.75375,     0.75475,     0.75576,     0.75676,     0.75776,     0.75876,     0.75976,     0.76076,     0.76176,     0.76276,     0.76376,     0.76476,     0.76577,     0.76677,     0.76777,\n",
       "           0.76877,     0.76977,     0.77077,     0.77177,     0.77277,     0.77377,     0.77477,     0.77578,     0.77678,     0.77778,     0.77878,     0.77978,     0.78078,     0.78178,     0.78278,     0.78378,     0.78478,     0.78579,     0.78679,     0.78779,     0.78879,     0.78979,     0.79079,     0.79179,\n",
       "           0.79279,     0.79379,     0.79479,      0.7958,      0.7968,      0.7978,      0.7988,      0.7998,      0.8008,      0.8018,      0.8028,      0.8038,      0.8048,     0.80581,     0.80681,     0.80781,     0.80881,     0.80981,     0.81081,     0.81181,     0.81281,     0.81381,     0.81481,     0.81582,\n",
       "           0.81682,     0.81782,     0.81882,     0.81982,     0.82082,     0.82182,     0.82282,     0.82382,     0.82482,     0.82583,     0.82683,     0.82783,     0.82883,     0.82983,     0.83083,     0.83183,     0.83283,     0.83383,     0.83483,     0.83584,     0.83684,     0.83784,     0.83884,     0.83984,\n",
       "           0.84084,     0.84184,     0.84284,     0.84384,     0.84484,     0.84585,     0.84685,     0.84785,     0.84885,     0.84985,     0.85085,     0.85185,     0.85285,     0.85385,     0.85485,     0.85586,     0.85686,     0.85786,     0.85886,     0.85986,     0.86086,     0.86186,     0.86286,     0.86386,\n",
       "           0.86486,     0.86587,     0.86687,     0.86787,     0.86887,     0.86987,     0.87087,     0.87187,     0.87287,     0.87387,     0.87487,     0.87588,     0.87688,     0.87788,     0.87888,     0.87988,     0.88088,     0.88188,     0.88288,     0.88388,     0.88488,     0.88589,     0.88689,     0.88789,\n",
       "           0.88889,     0.88989,     0.89089,     0.89189,     0.89289,     0.89389,     0.89489,      0.8959,      0.8969,      0.8979,      0.8989,      0.8999,      0.9009,      0.9019,      0.9029,      0.9039,      0.9049,     0.90591,     0.90691,     0.90791,     0.90891,     0.90991,     0.91091,     0.91191,\n",
       "           0.91291,     0.91391,     0.91491,     0.91592,     0.91692,     0.91792,     0.91892,     0.91992,     0.92092,     0.92192,     0.92292,     0.92392,     0.92492,     0.92593,     0.92693,     0.92793,     0.92893,     0.92993,     0.93093,     0.93193,     0.93293,     0.93393,     0.93493,     0.93594,\n",
       "           0.93694,     0.93794,     0.93894,     0.93994,     0.94094,     0.94194,     0.94294,     0.94394,     0.94494,     0.94595,     0.94695,     0.94795,     0.94895,     0.94995,     0.95095,     0.95195,     0.95295,     0.95395,     0.95495,     0.95596,     0.95696,     0.95796,     0.95896,     0.95996,\n",
       "           0.96096,     0.96196,     0.96296,     0.96396,     0.96496,     0.96597,     0.96697,     0.96797,     0.96897,     0.96997,     0.97097,     0.97197,     0.97297,     0.97397,     0.97497,     0.97598,     0.97698,     0.97798,     0.97898,     0.97998,     0.98098,     0.98198,     0.98298,     0.98398,\n",
       "           0.98498,     0.98599,     0.98699,     0.98799,     0.98899,     0.98999,     0.99099,     0.99199,     0.99299,     0.99399,     0.99499,       0.996,       0.997,       0.998,       0.999,           1]), array([[    0.94286,     0.94286,        0.94,     0.93714,     0.93429,     0.93429,     0.93143,     0.93143,     0.92857,     0.92286,     0.92286,        0.92,     0.91714,     0.91714,     0.91714,     0.91714,     0.91714,     0.91714,     0.91429,     0.91429,     0.91429,     0.91429,     0.91429,\n",
       "            0.91143,     0.91143,     0.90857,     0.90857,     0.90857,     0.90857,     0.90857,     0.90857,     0.90857,     0.90857,     0.90857,     0.90857,     0.90857,     0.90857,     0.90857,     0.90857,     0.90857,     0.90857,     0.90857,     0.90857,     0.90571,     0.90571,     0.90571,\n",
       "            0.90571,     0.90286,     0.90286,     0.90211,         0.9,         0.9,         0.9,         0.9,         0.9,         0.9,         0.9,         0.9,         0.9,         0.9,         0.9,         0.9,     0.89714,     0.89714,     0.89714,     0.89714,      0.8947,     0.89429,     0.89429,\n",
       "            0.89429,     0.89429,     0.89429,     0.89429,     0.89429,     0.89429,     0.89429,     0.89429,     0.89429,     0.89429,     0.89429,     0.89429,     0.89429,     0.89429,     0.89429,     0.89429,     0.89429,     0.89429,     0.89143,     0.89143,     0.88857,     0.88857,     0.88857,\n",
       "            0.88857,     0.88857,     0.88857,     0.88857,     0.88857,     0.88857,     0.88857,     0.88857,     0.88857,     0.88857,     0.88857,     0.88857,     0.88857,     0.88857,     0.88857,     0.88857,     0.88857,     0.88857,     0.88857,     0.88857,     0.88857,     0.88857,     0.88857,\n",
       "            0.88857,     0.88857,     0.88857,     0.88857,     0.88857,     0.88857,     0.88857,     0.88857,     0.88857,     0.88857,     0.88857,     0.88857,     0.88857,     0.88857,     0.88857,     0.88857,     0.88857,     0.88857,     0.88857,     0.88857,     0.88857,     0.88857,     0.88857,\n",
       "            0.88857,     0.88857,     0.88857,     0.88857,     0.88857,     0.88857,     0.88857,     0.88857,     0.88857,     0.88857,     0.88857,     0.88857,     0.88857,     0.88857,     0.88857,     0.88857,     0.88857,     0.88857,     0.88857,     0.88857,     0.88857,     0.88571,     0.88571,\n",
       "            0.88571,     0.88571,     0.88571,     0.88571,     0.88571,     0.88569,     0.88494,     0.88418,     0.88343,     0.88286,     0.88286,     0.88286,     0.88286,     0.88286,     0.88286,     0.88286,     0.88286,     0.88286,     0.88286,     0.88286,     0.88286,     0.88286,     0.88286,\n",
       "            0.88286,        0.88,        0.88,        0.88,        0.88,        0.88,        0.88,        0.88,        0.88,        0.88,        0.88,        0.88,        0.88,        0.88,        0.88,        0.88,        0.88,        0.88,        0.88,        0.88,        0.88,        0.88,        0.88,\n",
       "               0.88,        0.88,        0.88,        0.88,        0.88,        0.88,        0.88,        0.88,        0.88,        0.88,        0.88,        0.88,        0.88,        0.88,        0.88,        0.88,        0.88,        0.88,        0.88,        0.88,        0.88,        0.88,        0.88,\n",
       "               0.88,        0.88,        0.88,        0.88,        0.88,        0.88,        0.88,        0.88,        0.88,        0.88,        0.88,        0.88,        0.88,        0.88,        0.88,        0.88,        0.88,        0.88,        0.88,        0.88,        0.88,        0.88,        0.88,\n",
       "               0.88,        0.88,        0.88,        0.88,        0.88,        0.88,     0.87988,     0.87938,     0.87887,     0.87836,     0.87785,     0.87734,     0.87714,     0.87714,     0.87714,     0.87714,     0.87714,     0.87714,     0.87714,     0.87714,     0.87714,     0.87714,     0.87714,\n",
       "            0.87714,     0.87714,     0.87714,     0.87714,     0.87714,     0.87714,     0.87714,     0.87714,     0.87714,     0.87714,     0.87714,     0.87714,     0.87714,     0.87714,     0.87714,     0.87714,     0.87714,     0.87714,     0.87714,     0.87714,     0.87714,     0.87714,     0.87714,\n",
       "            0.87714,     0.87714,     0.87714,     0.87714,     0.87714,     0.87714,     0.87429,     0.87429,     0.87429,     0.87429,     0.87429,     0.87429,     0.87402,     0.87304,     0.87206,     0.87143,     0.87143,     0.87143,     0.87143,     0.87143,     0.87143,     0.87143,     0.87143,\n",
       "            0.87143,     0.87143,     0.87143,     0.87143,     0.87143,     0.87143,     0.87143,     0.87143,     0.87143,     0.87143,     0.87143,     0.87143,     0.87143,     0.87143,     0.87143,     0.87143,     0.87143,     0.87143,     0.87143,     0.87143,     0.87143,     0.87143,     0.87143,\n",
       "            0.87143,     0.87143,     0.87143,     0.87143,     0.87067,      0.8696,     0.86857,     0.86857,     0.86857,     0.86857,     0.86857,     0.86857,     0.86857,     0.86857,     0.86857,     0.86857,     0.86857,     0.86857,     0.86857,     0.86857,     0.86857,     0.86857,     0.86857,\n",
       "            0.86857,     0.86857,     0.86857,     0.86817,      0.8667,     0.86571,     0.86571,     0.86571,     0.86571,     0.86571,     0.86571,     0.86571,     0.86571,     0.86571,     0.86571,     0.86571,     0.86571,     0.86571,     0.86571,     0.86571,     0.86571,     0.86571,     0.86571,\n",
       "            0.86571,     0.86571,     0.86571,     0.86571,     0.86571,     0.86571,     0.86571,     0.86571,     0.86571,     0.86571,     0.86571,     0.86571,     0.86571,     0.86571,     0.86571,     0.86571,     0.86571,     0.86571,     0.86571,     0.86571,     0.86571,     0.86571,     0.86571,\n",
       "            0.86571,     0.86571,     0.86571,     0.86571,     0.86571,     0.86571,     0.86571,     0.86571,     0.86571,     0.86571,     0.86569,     0.86551,     0.86532,     0.86514,     0.86495,     0.86476,     0.86458,     0.86439,     0.86421,     0.86402,     0.86383,     0.86365,     0.86346,\n",
       "            0.86328,     0.86309,     0.86291,     0.86286,     0.86286,     0.86286,     0.86286,     0.86286,     0.86286,     0.86286,     0.86286,     0.86286,     0.86286,     0.86286,     0.86286,     0.86286,     0.86286,      0.8628,     0.86229,     0.86178,     0.86127,     0.86076,     0.86026,\n",
       "               0.86,        0.86,        0.86,     0.85979,     0.85942,     0.85906,     0.85869,     0.85833,     0.85796,     0.85759,     0.85723,     0.85639,     0.85542,     0.85444,     0.85429,     0.85429,     0.85429,     0.85429,     0.85429,     0.85429,     0.85429,     0.85429,     0.85429,\n",
       "            0.85429,     0.85429,     0.85429,     0.85429,     0.85429,     0.85429,     0.85429,     0.85429,     0.85429,     0.85429,     0.85429,     0.85377,      0.8523,     0.85143,     0.85143,     0.85143,     0.85143,     0.85122,      0.8508,     0.85038,     0.84996,     0.84955,     0.84913,\n",
       "            0.84871,     0.84857,     0.84857,     0.84857,     0.84857,     0.84857,     0.84857,     0.84857,     0.84857,     0.84857,     0.84857,     0.84857,     0.84857,     0.84857,     0.84857,     0.84857,     0.84857,     0.84857,     0.84857,     0.84857,     0.84857,     0.84857,     0.84857,\n",
       "            0.84857,     0.84857,     0.84857,     0.84857,     0.84857,     0.84857,     0.84857,     0.84857,     0.84857,     0.84857,     0.84857,     0.84857,     0.84857,     0.84857,     0.84857,     0.84835,     0.84799,     0.84762,     0.84725,     0.84689,     0.84652,     0.84616,     0.84579,\n",
       "            0.84571,     0.84571,     0.84571,     0.84571,     0.84571,     0.84571,     0.84286,     0.84286,     0.84286,     0.84286,     0.84286,     0.84286,     0.84286,      0.8427,     0.84246,     0.84222,     0.84197,     0.84173,     0.84148,     0.84124,       0.841,     0.84075,     0.84051,\n",
       "            0.84026,     0.84002,        0.84,        0.84,        0.84,        0.84,        0.84,        0.84,        0.84,        0.84,        0.84,     0.83524,     0.83103,     0.83045,     0.82986,     0.82928,     0.82869,     0.82841,     0.82821,     0.82801,      0.8278,      0.8276,      0.8274,\n",
       "             0.8272,       0.827,      0.8268,     0.82659,     0.82639,     0.82619,     0.82599,     0.82579,     0.82268,      0.8224,     0.82212,     0.82184,     0.82156,     0.82128,       0.821,     0.82072,     0.82044,     0.82017,     0.81993,     0.81974,     0.81956,     0.81938,     0.81919,\n",
       "            0.81901,     0.81883,     0.81864,     0.81846,     0.81828,      0.8181,     0.81791,     0.81773,     0.81755,     0.81736,     0.81718,     0.81698,     0.81645,     0.81591,     0.81538,     0.81485,     0.81432,     0.80857,     0.80857,     0.80812,     0.80767,     0.80722,     0.80677,\n",
       "            0.80632,     0.80587,     0.80556,     0.80533,     0.80509,     0.80486,     0.80462,     0.80439,     0.80416,     0.80392,     0.80369,     0.80345,     0.80322,     0.80298,     0.80219,     0.80073,     0.79926,      0.7978,      0.7965,     0.79532,     0.79429,     0.79412,     0.79295,\n",
       "            0.79178,     0.78775,     0.78658,     0.78495,     0.78262,     0.78178,     0.78095,     0.78011,        0.78,        0.78,        0.78,     0.77962,     0.77878,     0.77795,     0.77714,     0.77714,      0.7709,     0.76681,     0.76102,     0.75924,     0.75807,     0.75387,     0.75192,\n",
       "            0.75033,     0.74887,     0.74624,      0.7338,     0.73233,     0.73068,     0.72873,     0.72392,     0.71933,     0.71787,     0.71616,     0.71135,      0.7094,     0.70487,      0.7034,     0.69878,     0.69705,     0.69646,     0.69588,     0.69529,      0.6947,     0.69109,     0.68992,\n",
       "            0.68875,     0.68609,     0.68486,     0.68389,     0.68291,     0.67635,     0.67552,     0.67468,     0.67039,     0.66533,     0.66116,     0.65538,     0.64544,     0.64349,     0.63868,     0.63683,     0.63537,     0.63275,     0.62992,     0.62766,     0.62506,     0.62311,     0.61173,\n",
       "             0.5996,     0.59863,     0.59765,     0.58477,     0.57998,     0.57915,     0.57831,     0.57747,     0.57655,     0.57558,      0.5746,     0.57363,     0.57265,     0.57167,     0.56832,     0.56734,     0.56636,     0.56532,     0.56415,     0.56298,     0.55761,     0.55534,     0.55009,\n",
       "            0.54787,      0.5464,      0.5413,     0.52266,     0.51987,      0.5184,     0.51401,     0.51206,     0.50857,     0.50446,     0.49953,     0.49758,     0.49202,     0.48796,     0.48601,     0.47609,     0.47087,      0.4694,     0.46487,     0.46292,     0.46172,     0.46055,     0.45948,\n",
       "            0.45851,     0.45753,      0.4512,     0.44925,     0.44253,     0.44058,     0.43672,     0.43477,     0.43209,     0.42916,      0.4274,     0.42594,     0.41751,     0.41459,     0.40617,     0.40201,     0.40006,     0.39573,     0.39093,     0.38996,     0.38898,     0.37982,     0.37787,\n",
       "            0.36673,     0.36209,     0.36092,     0.35588,     0.34857,     0.34208,     0.33916,     0.33082,     0.32887,     0.31894,     0.31658,     0.31511,      0.3073,     0.30482,     0.30287,     0.29708,     0.28831,     0.28517,     0.28419,     0.28322,     0.28101,     0.27617,     0.26778,\n",
       "             0.2666,     0.26216,     0.25637,      0.2526,     0.24623,     0.24187,     0.23788,     0.22917,     0.22331,     0.21873,     0.21445,     0.21001,     0.20274,     0.19844,     0.19551,     0.19029,     0.18788,     0.17958,     0.17665,     0.17373,     0.17111,     0.16965,     0.16416,\n",
       "            0.16195,     0.16078,     0.15901,     0.15608,     0.14916,     0.14752,     0.14635,     0.14437,     0.13858,     0.13139,     0.12944,     0.12821,     0.12756,     0.12691,     0.12626,     0.12539,     0.12343,      0.1208,     0.11893,     0.11747,     0.11487,     0.11194,     0.11022,\n",
       "            0.10875,     0.10515,     0.10368,     0.10201,     0.10005,    0.095723,    0.089937,     0.08558,    0.079959,    0.079373,    0.078787,    0.078202,    0.077616,    0.071353,    0.070963,    0.070572,    0.070182,    0.069792,    0.069401,    0.069011,     0.06862,    0.066862,    0.065232,\n",
       "            0.06406,    0.062889,    0.061717,    0.060546,    0.057052,      0.0551,    0.051243,     0.04929,    0.047955,    0.046978,    0.046002,    0.041584,    0.036789,    0.035325,    0.030578,    0.026727,     0.01648,    0.014528,     0.01172,    0.011023,    0.010572,    0.010122,   0.0096712,\n",
       "          0.0092206,   0.0087701,   0.0080256,   0.0070494,   0.0060732,   0.0056168,   0.0054627,   0.0053085,   0.0051544,   0.0050003,   0.0048461,    0.004692,   0.0045378,   0.0043837,   0.0042296,   0.0040754,   0.0039213,   0.0037672,    0.003613,   0.0034589,   0.0033047,   0.0031506,   0.0029965,\n",
       "                  0,           0,           0,           0,           0,           0,           0,           0,           0,           0,           0,           0,           0,           0,           0,           0,           0,           0,           0,           0,           0,           0,           0,\n",
       "                  0,           0,           0,           0,           0,           0,           0,           0,           0,           0,           0,           0,           0,           0,           0,           0,           0,           0,           0,           0,           0,           0,           0,\n",
       "                  0,           0,           0,           0,           0,           0,           0,           0,           0,           0,           0]]), 'Confidence', 'Recall']]\n",
       "fitness: 0.6050028152495243\n",
       "keys: ['metrics/precision(B)', 'metrics/recall(B)', 'metrics/mAP50(B)', 'metrics/mAP50-95(B)']\n",
       "maps: array([    0.57233])\n",
       "names: {0: 'handle'}\n",
       "plot: True\n",
       "results_dict: {'metrics/precision(B)': 0.9368164584742071, 'metrics/recall(B)': 0.8472540397540398, 'metrics/mAP50(B)': 0.8990428560329056, 'metrics/mAP50-95(B)': 0.5723316996069263, 'fitness': 0.6050028152495243}\n",
       "save_dir: PosixPath('/home/vv/PRG_Assessment/car-door-handle.yolov12/custom datset of handles/yolov12n_handles3')\n",
       "speed: {'preprocess': 0.27577061281058046, 'inference': 2.2338744176755516, 'loss': 0.0020294786703211353, 'postprocess': 1.2867332743886304}\n",
       "task: 'detect'"
      ]
     },
     "execution_count": 5,
     "metadata": {},
     "output_type": "execute_result"
    }
   ],
   "source": [
    "# Train with backbone frozen\n",
    "model.train(\n",
    "    data='/home/vv/PRG_Assessment/car-door-handle.yolov12/data.yaml',  # <-- path to new dataset yaml\n",
    "    epochs=70,              # <-- number of epochs (default is 100)\n",
    "    imgsz=640,              # <-- image size (default is 640)\n",
    "    batch=16,               # <-- batch size (default is 16)\n",
    "    device=0,               # <-- device (0 for first GPU, 'cpu' for CPU)\n",
    "    patience=25,            # Early stopping patience (default is 50)\n",
    "    project=os.path.join(project_dir, 'runs'), \n",
    "    name='yolov12n_handles'\n",
    ")"
   ]
  },
  {
   "cell_type": "code",
   "execution_count": null,
   "metadata": {},
   "outputs": [],
   "source": []
  }
 ],
 "metadata": {
  "kernelspec": {
   "display_name": "Python 3",
   "language": "python",
   "name": "python3"
  },
  "language_info": {
   "codemirror_mode": {
    "name": "ipython",
    "version": 3
   },
   "file_extension": ".py",
   "mimetype": "text/x-python",
   "name": "python",
   "nbconvert_exporter": "python",
   "pygments_lexer": "ipython3",
   "version": "3.10.12"
  }
 },
 "nbformat": 4,
 "nbformat_minor": 2
}
